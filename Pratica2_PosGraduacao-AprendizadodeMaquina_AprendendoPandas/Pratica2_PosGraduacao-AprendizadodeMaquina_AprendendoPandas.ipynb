{
 "cells": [
  {
   "cell_type": "markdown",
   "metadata": {
    "colab_type": "text",
    "deletable": true,
    "editable": true,
    "id": "HoT9J0P0Q_Ii"
   },
   "source": [
    "# Aprendendo Numpy e Pandas\n",
    "\n",
    "Esse tutorial foi adaptado de Paulo Vasconcellos https://paulovasconcellos.com.br/como-criar-seu-primeiro-projeto-de-data-science-parte-2-de-2-cb9a2fe05eff e qualquer reprodução deve referenciar seus produtores\n",
    "\n",
    "Olá pessoal, essa é nossa segunda atividade prática.\n",
    "\n",
    "```\n",
    "Nessa atividade, aprenderemos as duas principais bibliotecas Python para a prática da Ciência de Dados e do Aprendizado de Máquina: NumPy e Pandas.\n",
    "\n",
    "Elas serão as nossas pedras fundamentais para conseguirmos manipular os dados durante nossas atividades. \n",
    "\n",
    "```\n",
    "Vamos começar?"
   ]
  },
  {
   "cell_type": "markdown",
   "metadata": {},
   "source": [
    "# Aprendendo o NumPy\n",
    "\n",
    "A biblioteca NumPy é o suporte à matrizes multidimensionais.Ele pode ser considerado como a base para a computação numérica no Python e foi criado para permitir que o Python seja usado na resolução de problemas matemáticos e científicos.\n",
    "\n",
    "Como o NumPy não vem junto o Python, o primeiro passo para usar esta biblioteca é instalá-la. Isso pode ser feito simplesmente executando o comando a seguir no seu prompt de comando:"
   ]
  },
  {
   "cell_type": "code",
   "execution_count": null,
   "metadata": {
    "collapsed": true
   },
   "outputs": [],
   "source": [
    "pip install numpy"
   ]
  },
  {
   "cell_type": "markdown",
   "metadata": {},
   "source": [
    "**Criando Arrays e o Objeto ndarray**\n",
    "\n",
    "A criação de arrays é ponto inicial. Uma vez criado através da biblioteca NumPy, é criado um objeto ndarray.\n",
    "\n",
    "O ndarray é um objeto fundamental do NumPy. Este objeto é uma matriz N-dimensional, isso significa que ele contém uma coleção de elementos do mesmo tipo indexados usando N números inteiros (dimensão da matriz)."
   ]
  },
  {
   "cell_type": "code",
   "execution_count": null,
   "metadata": {
    "collapsed": true
   },
   "outputs": [],
   "source": [
    "#import numpy as np\n",
    "\n",
    "#meu_array = np.array([1, 2, 3, 4, 5])\n",
    "\n",
    "#type(meu_array)\n",
    "\n",
    "#meu_outro_array = np.ndarray(shape=(2,2), dtype=float, order='F')\n",
    "\n",
    "#type(meu_outro_array)\n"
   ]
  },
  {
   "cell_type": "markdown",
   "metadata": {},
   "source": [
    "**Atributos do ndarray**\n",
    "\n",
    "Os principais atributos do ndarray são:\n",
    "\n",
    "> os tipos de dados (dtype)\n",
    "> as dimensoes (shape)\n",
    "> o tamanho (size)\n",
    "> o tamanho, em bytes, dos itens (itemsize)\n",
    "> os dados (data)\n",
    "> o numero de dimensões (ndim). \n",
    "\n",
    "Vamos aprender o que significa cada atributo através de exemplos."
   ]
  },
  {
   "cell_type": "code",
   "execution_count": null,
   "metadata": {
    "collapsed": true
   },
   "outputs": [],
   "source": [
    "#data_type = meu_array.dtype\n",
    "\n",
    "#array_shape = meu_array.shape\n",
    "\n",
    "#array_size = my_array.size\n",
    "\n",
    "#array_item_size = my_array.itemsize\n",
    "\n",
    "#array_dimension = my_array.ndim"
   ]
  },
  {
   "cell_type": "markdown",
   "metadata": {},
   "source": [
    "**Operações com Arrays**\n",
    "\n",
    "Usando o NumPy, você pode facilmente executar cálculos matemáticos em Arrays. Por exemplo, você pode somar arrays NumPy, subtraí-los, multiplicá-los e dividi-los. Aqui estão alguns exemplos:"
   ]
  },
  {
   "cell_type": "code",
   "execution_count": null,
   "metadata": {
    "collapsed": true
   },
   "outputs": [],
   "source": [
    "#a = np.array([[1.0, 2.0], [3.0, 4.0]])\n",
    "#b = np.array([[5.0, 6.0], [7.0, 8.0]])\n",
    "\n",
    "#soma = a + b # Soma\n",
    "#diferenca = a - b # Subtração\n",
    "#produto = a * b # Multiplicação\n",
    "#quociente = a / b # Divisão\n",
    "\n",
    "#multiplação matricial\n",
    "#matrix_product = a.dot(b) "
   ]
  },
  {
   "cell_type": "markdown",
   "metadata": {},
   "source": [
    "**Mudando o formato de um array**\n",
    "\n",
    "Uma forma útil de mudar o shape de um array é simplesmente utilizando a função reshape"
   ]
  },
  {
   "cell_type": "code",
   "execution_count": null,
   "metadata": {
    "collapsed": true
   },
   "outputs": [],
   "source": [
    "#novo_array = np.array([1,2,3,4])\n",
    "#print(novo_array)\n",
    "#matriz = novo_array.reshape(2,2)\n",
    "#print(matriz)"
   ]
  },
  {
   "cell_type": "markdown",
   "metadata": {},
   "source": [
    "**Criando sequencias**\n",
    "\n",
    "É comum precisarmos criar arrays com intervalos regulares (gráficos) ou algoritmos de aprendizado. Para isso, usamos algumas funções"
   ]
  },
  {
   "cell_type": "code",
   "execution_count": null,
   "metadata": {
    "collapsed": true
   },
   "outputs": [],
   "source": [
    "#v = np.arange(0, 5, 0.5) # cria um array de 0 até 5 com steps de 0.5\n",
    "#print(v)\n",
    "#u = np.linspace(0, 5, 10) # cria um array de 0 até 5 com 10 elementos\n",
    "#print(u)"
   ]
  },
  {
   "cell_type": "markdown",
   "metadata": {
    "colab_type": "text",
    "deletable": true,
    "editable": true,
    "id": "4ykYmdyHQ_In"
   },
   "source": [
    "# Aprendendo Pandas\n",
    "\n",
    "Pandas também é uma biblioteca Python. Ela fornece ferramentas de análise de dados e estruturas de dados de alta performance e fáceis de usar. Para instala-la, caso não esteja ja no ambiente, basta utilizar o instalador.\n",
    "\n",
    "https://pandas.pydata.org/pandas-docs/stable/reference/index.html\n"
   ]
  },
  {
   "cell_type": "code",
   "execution_count": null,
   "metadata": {
    "collapsed": true
   },
   "outputs": [],
   "source": [
    "pip install pandas"
   ]
  },
  {
   "cell_type": "markdown",
   "metadata": {},
   "source": [
    "**Entendendo o DataFrame e as Séries**\n",
    "\n",
    "**Series** são nada mais que arrays de 1 dimensão. Você pode considerar uma Series também como uma coluna de uma tabela.\n",
    "\n",
    "**DataFrame** é simplesmente um conjunto de Series. Trata-se de uma estrutura de dados de duas ou mais dimensões — colunas e linhas — que transforma os dados em uma bela tabela"
   ]
  },
  {
   "cell_type": "code",
   "execution_count": 0,
   "metadata": {
    "colab": {},
    "colab_type": "code",
    "collapsed": true,
    "deletable": true,
    "editable": true,
    "id": "9ESPeW6N5oZT"
   },
   "outputs": [],
   "source": [
    "import pandas as pd\n",
    "\n",
    "#s = pd.Series([3, -5, 7, 4], index=['a', 'b', 'c', 'd'])\n",
    "\n",
    "#data = {\n",
    "#'País': ['Bélgica', 'Índia', 'Brasil'],\n",
    "#'Capital': ['Bruxelas', 'Nova Delhi', 'Brasília'],\n",
    "#'População': [123465, 456789, 987654]\n",
    "#}\n",
    "\n",
    "#df = pd.DataFrame(data, columns=['País','Capital','População'])"
   ]
  },
  {
   "cell_type": "markdown",
   "metadata": {
    "colab_type": "text",
    "deletable": true,
    "editable": true,
    "id": "KaSnp67x64u4"
   },
   "source": [
    "** Acrescentando e removendo elementos**\n",
    "\n",
    "Para excluir dados podemos fazê-lo diretamente através das funções **drop** e para incluir podemos operar diretamente sobre o DataFrame utilizando ou com a função **append**"
   ]
  },
  {
   "cell_type": "code",
   "execution_count": 0,
   "metadata": {
    "colab": {
     "base_uri": "https://localhost:8080/",
     "height": 168
    },
    "colab_type": "code",
    "collapsed": false,
    "deletable": true,
    "editable": true,
    "id": "qR6wZrpd64JP",
    "outputId": "21adcb22-4927-4468-89c9-e25da03365f6"
   },
   "outputs": [
    {
     "data": {
      "text/html": [
       "<div>\n",
       "<style scoped>\n",
       "    .dataframe tbody tr th:only-of-type {\n",
       "        vertical-align: middle;\n",
       "    }\n",
       "\n",
       "    .dataframe tbody tr th {\n",
       "        vertical-align: top;\n",
       "    }\n",
       "\n",
       "    .dataframe thead th {\n",
       "        text-align: right;\n",
       "    }\n",
       "</style>\n",
       "<table border=\"1\" class=\"dataframe\">\n",
       "  <thead>\n",
       "    <tr style=\"text-align: right;\">\n",
       "      <th></th>\n",
       "      <th>País</th>\n",
       "      <th>Capital</th>\n",
       "      <th>População</th>\n",
       "    </tr>\n",
       "  </thead>\n",
       "  <tbody>\n",
       "    <tr>\n",
       "      <th>0</th>\n",
       "      <td>Bélgica</td>\n",
       "      <td>Bruxelas</td>\n",
       "      <td>123465</td>\n",
       "    </tr>\n",
       "    <tr>\n",
       "      <th>1</th>\n",
       "      <td>Índia</td>\n",
       "      <td>Nova Delhi</td>\n",
       "      <td>456789</td>\n",
       "    </tr>\n",
       "    <tr>\n",
       "      <th>2</th>\n",
       "      <td>Brasil</td>\n",
       "      <td>Brasília</td>\n",
       "      <td>987654</td>\n",
       "    </tr>\n",
       "    <tr>\n",
       "      <th>0</th>\n",
       "      <td>Argentina</td>\n",
       "      <td>Buenos Aires</td>\n",
       "      <td>67890</td>\n",
       "    </tr>\n",
       "  </tbody>\n",
       "</table>\n",
       "</div>"
      ],
      "text/plain": [
       "        País       Capital  População\n",
       "0    Bélgica      Bruxelas     123465\n",
       "1      Índia    Nova Delhi     456789\n",
       "2     Brasil      Brasília     987654\n",
       "0  Argentina  Buenos Aires      67890"
      ]
     },
     "execution_count": 55,
     "metadata": {
      "tags": []
     },
     "output_type": "execute_result"
    }
   ],
   "source": [
    "# adicionando uma nova linha\n",
    "#df2 = pd.DataFrame({\n",
    "#  'País': ['Argentina'],\n",
    "#  'Capital': ['Buenos Aires'],\n",
    "#  'População': [67890]\n",
    "#})\n",
    "#df.append(df2)\n",
    "\n",
    "# incluindo uma nova coluna\n",
    "#df['Territorio'] = 0\n",
    "\n",
    "#Removendo linhas pelo index\n",
    "#df.drop([0, 1]) # removendo a linha 0 e a linha 1\n",
    "#Removendo colunas utilizando o argumento axis=1\n",
    "#df.drop(columns=['Territorio'], axis=1)\n"
   ]
  },
  {
   "cell_type": "markdown",
   "metadata": {
    "colab_type": "text",
    "deletable": true,
    "editable": true,
    "id": "9pKoM9ke5tFR"
   },
   "source": [
    "** Realizando a leitura dos dados de um arquivo**\n",
    "\n",
    "Estamos usando um arquivo exemplo da plataforma Kaggle (https://www.kaggle.com/gregorut/videogamesales). Para que a leitura seja feita corretamente ele precisa estar no mesmo diretório que o arquivo fonte.\n",
    "\n",
    "Para quem utilizar o Colaboratory online, basta realizar o upload do arquivo no ambiente.\n",
    "\n",
    "Para realmente começar a usar o pandas precisamos saber como ler os dados de um arquivo. O formato mais comum é o csv. Para visualizar os dados podemos utilizar a função head para exibir o primeiros registros) ou tail para exibier os ultimos registros"
   ]
  },
  {
   "cell_type": "code",
   "execution_count": 0,
   "metadata": {
    "colab": {
     "base_uri": "https://localhost:8080/",
     "height": 348
    },
    "colab_type": "code",
    "collapsed": false,
    "deletable": true,
    "editable": true,
    "id": "DYo7wKQKQ_Ir",
    "outputId": "55fbc58b-d630-4e17-a6c5-da8a6e7ef0fa"
   },
   "outputs": [
    {
     "data": {
      "text/html": [
       "<div>\n",
       "<style scoped>\n",
       "    .dataframe tbody tr th:only-of-type {\n",
       "        vertical-align: middle;\n",
       "    }\n",
       "\n",
       "    .dataframe tbody tr th {\n",
       "        vertical-align: top;\n",
       "    }\n",
       "\n",
       "    .dataframe thead th {\n",
       "        text-align: right;\n",
       "    }\n",
       "</style>\n",
       "<table border=\"1\" class=\"dataframe\">\n",
       "  <thead>\n",
       "    <tr style=\"text-align: right;\">\n",
       "      <th></th>\n",
       "      <th>Rank</th>\n",
       "      <th>Name</th>\n",
       "      <th>Platform</th>\n",
       "      <th>Year</th>\n",
       "      <th>Genre</th>\n",
       "      <th>Publisher</th>\n",
       "      <th>NA_Sales</th>\n",
       "      <th>EU_Sales</th>\n",
       "      <th>JP_Sales</th>\n",
       "      <th>Other_Sales</th>\n",
       "      <th>Global_Sales</th>\n",
       "    </tr>\n",
       "  </thead>\n",
       "  <tbody>\n",
       "    <tr>\n",
       "      <th>0</th>\n",
       "      <td>1</td>\n",
       "      <td>Wii Sports</td>\n",
       "      <td>Wii</td>\n",
       "      <td>2006.0</td>\n",
       "      <td>Sports</td>\n",
       "      <td>Nintendo</td>\n",
       "      <td>41.49</td>\n",
       "      <td>29.02</td>\n",
       "      <td>3.77</td>\n",
       "      <td>8.46</td>\n",
       "      <td>82.74</td>\n",
       "    </tr>\n",
       "    <tr>\n",
       "      <th>1</th>\n",
       "      <td>2</td>\n",
       "      <td>Super Mario Bros.</td>\n",
       "      <td>NES</td>\n",
       "      <td>1985.0</td>\n",
       "      <td>Platform</td>\n",
       "      <td>Nintendo</td>\n",
       "      <td>29.08</td>\n",
       "      <td>3.58</td>\n",
       "      <td>6.81</td>\n",
       "      <td>0.77</td>\n",
       "      <td>40.24</td>\n",
       "    </tr>\n",
       "    <tr>\n",
       "      <th>2</th>\n",
       "      <td>3</td>\n",
       "      <td>Mario Kart Wii</td>\n",
       "      <td>Wii</td>\n",
       "      <td>2008.0</td>\n",
       "      <td>Racing</td>\n",
       "      <td>Nintendo</td>\n",
       "      <td>15.85</td>\n",
       "      <td>12.88</td>\n",
       "      <td>3.79</td>\n",
       "      <td>3.31</td>\n",
       "      <td>35.82</td>\n",
       "    </tr>\n",
       "    <tr>\n",
       "      <th>3</th>\n",
       "      <td>4</td>\n",
       "      <td>Wii Sports Resort</td>\n",
       "      <td>Wii</td>\n",
       "      <td>2009.0</td>\n",
       "      <td>Sports</td>\n",
       "      <td>Nintendo</td>\n",
       "      <td>15.75</td>\n",
       "      <td>11.01</td>\n",
       "      <td>3.28</td>\n",
       "      <td>2.96</td>\n",
       "      <td>33.00</td>\n",
       "    </tr>\n",
       "    <tr>\n",
       "      <th>4</th>\n",
       "      <td>5</td>\n",
       "      <td>Pokemon Red/Pokemon Blue</td>\n",
       "      <td>GB</td>\n",
       "      <td>1996.0</td>\n",
       "      <td>Role-Playing</td>\n",
       "      <td>Nintendo</td>\n",
       "      <td>11.27</td>\n",
       "      <td>8.89</td>\n",
       "      <td>10.22</td>\n",
       "      <td>1.00</td>\n",
       "      <td>31.37</td>\n",
       "    </tr>\n",
       "    <tr>\n",
       "      <th>5</th>\n",
       "      <td>6</td>\n",
       "      <td>Tetris</td>\n",
       "      <td>GB</td>\n",
       "      <td>1989.0</td>\n",
       "      <td>Puzzle</td>\n",
       "      <td>Nintendo</td>\n",
       "      <td>23.20</td>\n",
       "      <td>2.26</td>\n",
       "      <td>4.22</td>\n",
       "      <td>0.58</td>\n",
       "      <td>30.26</td>\n",
       "    </tr>\n",
       "    <tr>\n",
       "      <th>6</th>\n",
       "      <td>7</td>\n",
       "      <td>New Super Mario Bros.</td>\n",
       "      <td>DS</td>\n",
       "      <td>2006.0</td>\n",
       "      <td>Platform</td>\n",
       "      <td>Nintendo</td>\n",
       "      <td>11.38</td>\n",
       "      <td>9.23</td>\n",
       "      <td>6.50</td>\n",
       "      <td>2.90</td>\n",
       "      <td>30.01</td>\n",
       "    </tr>\n",
       "    <tr>\n",
       "      <th>7</th>\n",
       "      <td>8</td>\n",
       "      <td>Wii Play</td>\n",
       "      <td>Wii</td>\n",
       "      <td>2006.0</td>\n",
       "      <td>Misc</td>\n",
       "      <td>Nintendo</td>\n",
       "      <td>14.03</td>\n",
       "      <td>9.20</td>\n",
       "      <td>2.93</td>\n",
       "      <td>2.85</td>\n",
       "      <td>29.02</td>\n",
       "    </tr>\n",
       "    <tr>\n",
       "      <th>8</th>\n",
       "      <td>9</td>\n",
       "      <td>New Super Mario Bros. Wii</td>\n",
       "      <td>Wii</td>\n",
       "      <td>2009.0</td>\n",
       "      <td>Platform</td>\n",
       "      <td>Nintendo</td>\n",
       "      <td>14.59</td>\n",
       "      <td>7.06</td>\n",
       "      <td>4.70</td>\n",
       "      <td>2.26</td>\n",
       "      <td>28.62</td>\n",
       "    </tr>\n",
       "    <tr>\n",
       "      <th>9</th>\n",
       "      <td>10</td>\n",
       "      <td>Duck Hunt</td>\n",
       "      <td>NES</td>\n",
       "      <td>1984.0</td>\n",
       "      <td>Shooter</td>\n",
       "      <td>Nintendo</td>\n",
       "      <td>26.93</td>\n",
       "      <td>0.63</td>\n",
       "      <td>0.28</td>\n",
       "      <td>0.47</td>\n",
       "      <td>28.31</td>\n",
       "    </tr>\n",
       "  </tbody>\n",
       "</table>\n",
       "</div>"
      ],
      "text/plain": [
       "   Rank                       Name  ... Other_Sales  Global_Sales\n",
       "0     1                 Wii Sports  ...        8.46         82.74\n",
       "1     2          Super Mario Bros.  ...        0.77         40.24\n",
       "2     3             Mario Kart Wii  ...        3.31         35.82\n",
       "3     4          Wii Sports Resort  ...        2.96         33.00\n",
       "4     5   Pokemon Red/Pokemon Blue  ...        1.00         31.37\n",
       "5     6                     Tetris  ...        0.58         30.26\n",
       "6     7      New Super Mario Bros.  ...        2.90         30.01\n",
       "7     8                   Wii Play  ...        2.85         29.02\n",
       "8     9  New Super Mario Bros. Wii  ...        2.26         28.62\n",
       "9    10                  Duck Hunt  ...        0.47         28.31\n",
       "\n",
       "[10 rows x 11 columns]"
      ]
     },
     "execution_count": 25,
     "metadata": {
      "tags": []
     },
     "output_type": "execute_result"
    }
   ],
   "source": [
    "#gamedata = pd.read_csv('./at2-vgsales.csv')\n",
    "\n",
    "#gamedata.head(10)"
   ]
  },
  {
   "cell_type": "markdown",
   "metadata": {
    "colab_type": "text",
    "deletable": true,
    "editable": true,
    "id": "6MW5m1fsQ_I0"
   },
   "source": [
    "Para alterar o nome das colunas no pandas podemos somente criar uma lista com os novos valores e preencher a estrutura columns"
   ]
  },
  {
   "cell_type": "code",
   "execution_count": 0,
   "metadata": {
    "colab": {
     "base_uri": "https://localhost:8080/",
     "height": 418
    },
    "colab_type": "code",
    "collapsed": false,
    "deletable": true,
    "editable": true,
    "id": "MxEMDII4Q_I2",
    "outputId": "8e1440d0-c564-44d5-ab8d-ecd19ca3144a",
    "scrolled": true
   },
   "outputs": [
    {
     "name": "stdout",
     "output_type": "stream",
     "text": [
      "(16598, 11)\n"
     ]
    },
    {
     "data": {
      "text/html": [
       "<div>\n",
       "<style scoped>\n",
       "    .dataframe tbody tr th:only-of-type {\n",
       "        vertical-align: middle;\n",
       "    }\n",
       "\n",
       "    .dataframe tbody tr th {\n",
       "        vertical-align: top;\n",
       "    }\n",
       "\n",
       "    .dataframe thead th {\n",
       "        text-align: right;\n",
       "    }\n",
       "</style>\n",
       "<table border=\"1\" class=\"dataframe\">\n",
       "  <thead>\n",
       "    <tr style=\"text-align: right;\">\n",
       "      <th></th>\n",
       "      <th>Ranking</th>\n",
       "      <th>Nome</th>\n",
       "      <th>Plataforma</th>\n",
       "      <th>Ano</th>\n",
       "      <th>Gênero</th>\n",
       "      <th>Produtora</th>\n",
       "      <th>Vendas América do Norte</th>\n",
       "      <th>Vendas EUA</th>\n",
       "      <th>Vendas Japão</th>\n",
       "      <th>Outras vendas</th>\n",
       "      <th>Vendas Global</th>\n",
       "    </tr>\n",
       "  </thead>\n",
       "  <tbody>\n",
       "    <tr>\n",
       "      <th>0</th>\n",
       "      <td>1</td>\n",
       "      <td>Wii Sports</td>\n",
       "      <td>Wii</td>\n",
       "      <td>2006.0</td>\n",
       "      <td>Sports</td>\n",
       "      <td>Nintendo</td>\n",
       "      <td>41.49</td>\n",
       "      <td>29.02</td>\n",
       "      <td>3.77</td>\n",
       "      <td>8.46</td>\n",
       "      <td>82.74</td>\n",
       "    </tr>\n",
       "    <tr>\n",
       "      <th>1</th>\n",
       "      <td>2</td>\n",
       "      <td>Super Mario Bros.</td>\n",
       "      <td>NES</td>\n",
       "      <td>1985.0</td>\n",
       "      <td>Platform</td>\n",
       "      <td>Nintendo</td>\n",
       "      <td>29.08</td>\n",
       "      <td>3.58</td>\n",
       "      <td>6.81</td>\n",
       "      <td>0.77</td>\n",
       "      <td>40.24</td>\n",
       "    </tr>\n",
       "    <tr>\n",
       "      <th>2</th>\n",
       "      <td>3</td>\n",
       "      <td>Mario Kart Wii</td>\n",
       "      <td>Wii</td>\n",
       "      <td>2008.0</td>\n",
       "      <td>Racing</td>\n",
       "      <td>Nintendo</td>\n",
       "      <td>15.85</td>\n",
       "      <td>12.88</td>\n",
       "      <td>3.79</td>\n",
       "      <td>3.31</td>\n",
       "      <td>35.82</td>\n",
       "    </tr>\n",
       "    <tr>\n",
       "      <th>3</th>\n",
       "      <td>4</td>\n",
       "      <td>Wii Sports Resort</td>\n",
       "      <td>Wii</td>\n",
       "      <td>2009.0</td>\n",
       "      <td>Sports</td>\n",
       "      <td>Nintendo</td>\n",
       "      <td>15.75</td>\n",
       "      <td>11.01</td>\n",
       "      <td>3.28</td>\n",
       "      <td>2.96</td>\n",
       "      <td>33.00</td>\n",
       "    </tr>\n",
       "    <tr>\n",
       "      <th>4</th>\n",
       "      <td>5</td>\n",
       "      <td>Pokemon Red/Pokemon Blue</td>\n",
       "      <td>GB</td>\n",
       "      <td>1996.0</td>\n",
       "      <td>Role-Playing</td>\n",
       "      <td>Nintendo</td>\n",
       "      <td>11.27</td>\n",
       "      <td>8.89</td>\n",
       "      <td>10.22</td>\n",
       "      <td>1.00</td>\n",
       "      <td>31.37</td>\n",
       "    </tr>\n",
       "    <tr>\n",
       "      <th>5</th>\n",
       "      <td>6</td>\n",
       "      <td>Tetris</td>\n",
       "      <td>GB</td>\n",
       "      <td>1989.0</td>\n",
       "      <td>Puzzle</td>\n",
       "      <td>Nintendo</td>\n",
       "      <td>23.20</td>\n",
       "      <td>2.26</td>\n",
       "      <td>4.22</td>\n",
       "      <td>0.58</td>\n",
       "      <td>30.26</td>\n",
       "    </tr>\n",
       "    <tr>\n",
       "      <th>6</th>\n",
       "      <td>7</td>\n",
       "      <td>New Super Mario Bros.</td>\n",
       "      <td>DS</td>\n",
       "      <td>2006.0</td>\n",
       "      <td>Platform</td>\n",
       "      <td>Nintendo</td>\n",
       "      <td>11.38</td>\n",
       "      <td>9.23</td>\n",
       "      <td>6.50</td>\n",
       "      <td>2.90</td>\n",
       "      <td>30.01</td>\n",
       "    </tr>\n",
       "    <tr>\n",
       "      <th>7</th>\n",
       "      <td>8</td>\n",
       "      <td>Wii Play</td>\n",
       "      <td>Wii</td>\n",
       "      <td>2006.0</td>\n",
       "      <td>Misc</td>\n",
       "      <td>Nintendo</td>\n",
       "      <td>14.03</td>\n",
       "      <td>9.20</td>\n",
       "      <td>2.93</td>\n",
       "      <td>2.85</td>\n",
       "      <td>29.02</td>\n",
       "    </tr>\n",
       "    <tr>\n",
       "      <th>8</th>\n",
       "      <td>9</td>\n",
       "      <td>New Super Mario Bros. Wii</td>\n",
       "      <td>Wii</td>\n",
       "      <td>2009.0</td>\n",
       "      <td>Platform</td>\n",
       "      <td>Nintendo</td>\n",
       "      <td>14.59</td>\n",
       "      <td>7.06</td>\n",
       "      <td>4.70</td>\n",
       "      <td>2.26</td>\n",
       "      <td>28.62</td>\n",
       "    </tr>\n",
       "    <tr>\n",
       "      <th>9</th>\n",
       "      <td>10</td>\n",
       "      <td>Duck Hunt</td>\n",
       "      <td>NES</td>\n",
       "      <td>1984.0</td>\n",
       "      <td>Shooter</td>\n",
       "      <td>Nintendo</td>\n",
       "      <td>26.93</td>\n",
       "      <td>0.63</td>\n",
       "      <td>0.28</td>\n",
       "      <td>0.47</td>\n",
       "      <td>28.31</td>\n",
       "    </tr>\n",
       "  </tbody>\n",
       "</table>\n",
       "</div>"
      ],
      "text/plain": [
       "   Ranking                       Nome  ... Outras vendas  Vendas Global\n",
       "0        1                 Wii Sports  ...          8.46          82.74\n",
       "1        2          Super Mario Bros.  ...          0.77          40.24\n",
       "2        3             Mario Kart Wii  ...          3.31          35.82\n",
       "3        4          Wii Sports Resort  ...          2.96          33.00\n",
       "4        5   Pokemon Red/Pokemon Blue  ...          1.00          31.37\n",
       "5        6                     Tetris  ...          0.58          30.26\n",
       "6        7      New Super Mario Bros.  ...          2.90          30.01\n",
       "7        8                   Wii Play  ...          2.85          29.02\n",
       "8        9  New Super Mario Bros. Wii  ...          2.26          28.62\n",
       "9       10                  Duck Hunt  ...          0.47          28.31\n",
       "\n",
       "[10 rows x 11 columns]"
      ]
     },
     "execution_count": 57,
     "metadata": {
      "tags": []
     },
     "output_type": "execute_result"
    }
   ],
   "source": [
    "#gamedata.columns = ['Ranking', 'Nome', 'Plataforma', 'Ano','Gênero', 'Produtora', 'Vendas América do Norte', 'Vendas EUA', 'Vendas Japão', 'Outras vendas', 'Vendas Global']\n",
    "#print(gamedata.shape)\n",
    "#gamedata.head(10)"
   ]
  },
  {
   "cell_type": "markdown",
   "metadata": {
    "colab_type": "text",
    "deletable": true,
    "editable": true,
    "id": "S-xqK7VlQ_I8"
   },
   "source": [
    "Para termos um resumo estatísticos dos dados podemos utilizar a função describe. Essa função permite que se realize o cálculo da média, desvio padrão, mínimos, máximos e os quartis de cada uma das colunas"
   ]
  },
  {
   "cell_type": "code",
   "execution_count": 0,
   "metadata": {
    "colab": {
     "base_uri": "https://localhost:8080/",
     "height": 288
    },
    "colab_type": "code",
    "collapsed": false,
    "deletable": true,
    "editable": true,
    "id": "HuM7zOc1Q_I9",
    "outputId": "c53616d4-d259-4c2c-87c0-9b2ab3aa2786"
   },
   "outputs": [
    {
     "data": {
      "text/html": [
       "<div>\n",
       "<style scoped>\n",
       "    .dataframe tbody tr th:only-of-type {\n",
       "        vertical-align: middle;\n",
       "    }\n",
       "\n",
       "    .dataframe tbody tr th {\n",
       "        vertical-align: top;\n",
       "    }\n",
       "\n",
       "    .dataframe thead th {\n",
       "        text-align: right;\n",
       "    }\n",
       "</style>\n",
       "<table border=\"1\" class=\"dataframe\">\n",
       "  <thead>\n",
       "    <tr style=\"text-align: right;\">\n",
       "      <th></th>\n",
       "      <th>Ranking</th>\n",
       "      <th>Ano</th>\n",
       "      <th>Vendas América do Norte</th>\n",
       "      <th>Vendas EUA</th>\n",
       "      <th>Vendas Japão</th>\n",
       "      <th>Outras vendas</th>\n",
       "      <th>Vendas Global</th>\n",
       "    </tr>\n",
       "  </thead>\n",
       "  <tbody>\n",
       "    <tr>\n",
       "      <th>count</th>\n",
       "      <td>16598.000000</td>\n",
       "      <td>16327.000000</td>\n",
       "      <td>16598.000000</td>\n",
       "      <td>16598.000000</td>\n",
       "      <td>16598.000000</td>\n",
       "      <td>16598.000000</td>\n",
       "      <td>16598.000000</td>\n",
       "    </tr>\n",
       "    <tr>\n",
       "      <th>mean</th>\n",
       "      <td>8300.605254</td>\n",
       "      <td>2006.406443</td>\n",
       "      <td>0.264667</td>\n",
       "      <td>0.146652</td>\n",
       "      <td>0.077782</td>\n",
       "      <td>0.048063</td>\n",
       "      <td>0.537441</td>\n",
       "    </tr>\n",
       "    <tr>\n",
       "      <th>std</th>\n",
       "      <td>4791.853933</td>\n",
       "      <td>5.828981</td>\n",
       "      <td>0.816683</td>\n",
       "      <td>0.505351</td>\n",
       "      <td>0.309291</td>\n",
       "      <td>0.188588</td>\n",
       "      <td>1.555028</td>\n",
       "    </tr>\n",
       "    <tr>\n",
       "      <th>min</th>\n",
       "      <td>1.000000</td>\n",
       "      <td>1980.000000</td>\n",
       "      <td>0.000000</td>\n",
       "      <td>0.000000</td>\n",
       "      <td>0.000000</td>\n",
       "      <td>0.000000</td>\n",
       "      <td>0.010000</td>\n",
       "    </tr>\n",
       "    <tr>\n",
       "      <th>25%</th>\n",
       "      <td>4151.250000</td>\n",
       "      <td>2003.000000</td>\n",
       "      <td>0.000000</td>\n",
       "      <td>0.000000</td>\n",
       "      <td>0.000000</td>\n",
       "      <td>0.000000</td>\n",
       "      <td>0.060000</td>\n",
       "    </tr>\n",
       "    <tr>\n",
       "      <th>50%</th>\n",
       "      <td>8300.500000</td>\n",
       "      <td>2007.000000</td>\n",
       "      <td>0.080000</td>\n",
       "      <td>0.020000</td>\n",
       "      <td>0.000000</td>\n",
       "      <td>0.010000</td>\n",
       "      <td>0.170000</td>\n",
       "    </tr>\n",
       "    <tr>\n",
       "      <th>75%</th>\n",
       "      <td>12449.750000</td>\n",
       "      <td>2010.000000</td>\n",
       "      <td>0.240000</td>\n",
       "      <td>0.110000</td>\n",
       "      <td>0.040000</td>\n",
       "      <td>0.040000</td>\n",
       "      <td>0.470000</td>\n",
       "    </tr>\n",
       "    <tr>\n",
       "      <th>max</th>\n",
       "      <td>16600.000000</td>\n",
       "      <td>2020.000000</td>\n",
       "      <td>41.490000</td>\n",
       "      <td>29.020000</td>\n",
       "      <td>10.220000</td>\n",
       "      <td>10.570000</td>\n",
       "      <td>82.740000</td>\n",
       "    </tr>\n",
       "  </tbody>\n",
       "</table>\n",
       "</div>"
      ],
      "text/plain": [
       "            Ranking           Ano  ...  Outras vendas  Vendas Global\n",
       "count  16598.000000  16327.000000  ...   16598.000000   16598.000000\n",
       "mean    8300.605254   2006.406443  ...       0.048063       0.537441\n",
       "std     4791.853933      5.828981  ...       0.188588       1.555028\n",
       "min        1.000000   1980.000000  ...       0.000000       0.010000\n",
       "25%     4151.250000   2003.000000  ...       0.000000       0.060000\n",
       "50%     8300.500000   2007.000000  ...       0.010000       0.170000\n",
       "75%    12449.750000   2010.000000  ...       0.040000       0.470000\n",
       "max    16600.000000   2020.000000  ...      10.570000      82.740000\n",
       "\n",
       "[8 rows x 7 columns]"
      ]
     },
     "execution_count": 27,
     "metadata": {
      "tags": []
     },
     "output_type": "execute_result"
    }
   ],
   "source": [
    "#gamedata.describe()"
   ]
  },
  {
   "cell_type": "markdown",
   "metadata": {
    "colab_type": "text",
    "deletable": true,
    "editable": true,
    "id": "pzcw_9dJQ_JC"
   },
   "source": [
    "Se quisermos acessar uma coluna podemos identifica-la pelo seu nome. Se quisermos várias o processo é o mesmo"
   ]
  },
  {
   "cell_type": "code",
   "execution_count": 0,
   "metadata": {
    "colab": {
     "base_uri": "https://localhost:8080/",
     "height": 407
    },
    "colab_type": "code",
    "collapsed": false,
    "deletable": true,
    "editable": true,
    "id": "aPlKb1EEQ_JD",
    "outputId": "5b83e2ae-b359-469e-c8ae-77578d348889"
   },
   "outputs": [
    {
     "data": {
      "text/html": [
       "<div>\n",
       "<style scoped>\n",
       "    .dataframe tbody tr th:only-of-type {\n",
       "        vertical-align: middle;\n",
       "    }\n",
       "\n",
       "    .dataframe tbody tr th {\n",
       "        vertical-align: top;\n",
       "    }\n",
       "\n",
       "    .dataframe thead th {\n",
       "        text-align: right;\n",
       "    }\n",
       "</style>\n",
       "<table border=\"1\" class=\"dataframe\">\n",
       "  <thead>\n",
       "    <tr style=\"text-align: right;\">\n",
       "      <th></th>\n",
       "      <th>Nome</th>\n",
       "      <th>Ano</th>\n",
       "    </tr>\n",
       "  </thead>\n",
       "  <tbody>\n",
       "    <tr>\n",
       "      <th>0</th>\n",
       "      <td>Wii Sports</td>\n",
       "      <td>2006.0</td>\n",
       "    </tr>\n",
       "    <tr>\n",
       "      <th>1</th>\n",
       "      <td>Super Mario Bros.</td>\n",
       "      <td>1985.0</td>\n",
       "    </tr>\n",
       "    <tr>\n",
       "      <th>2</th>\n",
       "      <td>Mario Kart Wii</td>\n",
       "      <td>2008.0</td>\n",
       "    </tr>\n",
       "    <tr>\n",
       "      <th>3</th>\n",
       "      <td>Wii Sports Resort</td>\n",
       "      <td>2009.0</td>\n",
       "    </tr>\n",
       "    <tr>\n",
       "      <th>4</th>\n",
       "      <td>Pokemon Red/Pokemon Blue</td>\n",
       "      <td>1996.0</td>\n",
       "    </tr>\n",
       "    <tr>\n",
       "      <th>...</th>\n",
       "      <td>...</td>\n",
       "      <td>...</td>\n",
       "    </tr>\n",
       "    <tr>\n",
       "      <th>16593</th>\n",
       "      <td>Woody Woodpecker in Crazy Castle 5</td>\n",
       "      <td>2002.0</td>\n",
       "    </tr>\n",
       "    <tr>\n",
       "      <th>16594</th>\n",
       "      <td>Men in Black II: Alien Escape</td>\n",
       "      <td>2003.0</td>\n",
       "    </tr>\n",
       "    <tr>\n",
       "      <th>16595</th>\n",
       "      <td>SCORE International Baja 1000: The Official Game</td>\n",
       "      <td>2008.0</td>\n",
       "    </tr>\n",
       "    <tr>\n",
       "      <th>16596</th>\n",
       "      <td>Know How 2</td>\n",
       "      <td>2010.0</td>\n",
       "    </tr>\n",
       "    <tr>\n",
       "      <th>16597</th>\n",
       "      <td>Spirits &amp; Spells</td>\n",
       "      <td>2003.0</td>\n",
       "    </tr>\n",
       "  </tbody>\n",
       "</table>\n",
       "<p>16598 rows × 2 columns</p>\n",
       "</div>"
      ],
      "text/plain": [
       "                                                   Nome     Ano\n",
       "0                                            Wii Sports  2006.0\n",
       "1                                     Super Mario Bros.  1985.0\n",
       "2                                        Mario Kart Wii  2008.0\n",
       "3                                     Wii Sports Resort  2009.0\n",
       "4                              Pokemon Red/Pokemon Blue  1996.0\n",
       "...                                                 ...     ...\n",
       "16593                Woody Woodpecker in Crazy Castle 5  2002.0\n",
       "16594                     Men in Black II: Alien Escape  2003.0\n",
       "16595  SCORE International Baja 1000: The Official Game  2008.0\n",
       "16596                                        Know How 2  2010.0\n",
       "16597                                  Spirits & Spells  2003.0\n",
       "\n",
       "[16598 rows x 2 columns]"
      ]
     },
     "execution_count": 24,
     "metadata": {
      "tags": []
     },
     "output_type": "execute_result"
    }
   ],
   "source": [
    "# Selecionando uma coluna\n",
    "# gamedata['Nome']\n",
    "# Selecionando varias colunas\n",
    "# gamedata[['Nome', 'Ano']]"
   ]
  },
  {
   "cell_type": "markdown",
   "metadata": {
    "colab_type": "text",
    "deletable": true,
    "editable": true,
    "id": "XQFYDXTyQ_JI"
   },
   "source": [
    "Se quisermos apenas algumas linhas e colunas podemos identifica-las através de colchetes. Para identificar uma faixa basta colocar, dentro do colchete, o número inicial e final desejado separados por ':'."
   ]
  },
  {
   "cell_type": "code",
   "execution_count": 0,
   "metadata": {
    "colab": {
     "base_uri": "https://localhost:8080/",
     "height": 181
    },
    "colab_type": "code",
    "collapsed": false,
    "deletable": true,
    "editable": true,
    "id": "vDadzFgjQ_JK",
    "outputId": "abba44d9-a5fb-474b-c2fc-95cbc1cb355e"
   },
   "outputs": [
    {
     "data": {
      "text/plain": [
       "16590    16593\n",
       "16591    16594\n",
       "16592    16595\n",
       "16593    16596\n",
       "16594    16597\n",
       "16595    16598\n",
       "16596    16599\n",
       "16597    16600\n",
       "Name: Ranking, dtype: int64"
      ]
     },
     "execution_count": 30,
     "metadata": {
      "tags": []
     },
     "output_type": "execute_result"
    }
   ],
   "source": [
    "# pegar da linha 2 até a linha 10\n",
    "# gamedata['Ranking'][2:10]\n",
    "# pegar da linha 0 até a linha 15\n",
    "# gamedata['Ranking'][:15]\n",
    "# pegar as 8 ultimas linhas\n",
    "# gamedata['Ranking'][-8:]"
   ]
  },
  {
   "cell_type": "markdown",
   "metadata": {
    "colab_type": "text",
    "deletable": true,
    "editable": true,
    "id": "0-aVgcM-5GcQ"
   },
   "source": [
    "# Praticando\n",
    "\n",
    "1.   Recupere da 10a até a 20a linha da coluna\n",
    "2.   Recupere as 20 ultimas linhas dos campos Genero e Ranking\n",
    "3.   Recupere as 10 primeiras linhas dos campos Vendas USA e Vendas Japão"
   ]
  },
  {
   "cell_type": "code",
   "execution_count": 0,
   "metadata": {
    "colab": {},
    "colab_type": "code",
    "collapsed": true,
    "deletable": true,
    "editable": true,
    "id": "W-MyUWNw8C5G"
   },
   "outputs": [],
   "source": []
  },
  {
   "cell_type": "markdown",
   "metadata": {
    "colab_type": "text",
    "deletable": true,
    "editable": true,
    "id": "TFwfYgV5Q_JQ"
   },
   "source": [
    "** Criando filtros **\n",
    "\n",
    "Utilizamos a função isnull para determinar quais as linhas que possuem o campo 'Ano' nulo.\n",
    "Dentro da variável nullrows estão os números das linhas que possuem esse campo vazio.\n",
    "dessa forma aplicamos um filtro sobre gamedata"
   ]
  },
  {
   "cell_type": "code",
   "execution_count": 0,
   "metadata": {
    "colab": {
     "base_uri": "https://localhost:8080/",
     "height": 250
    },
    "colab_type": "code",
    "collapsed": false,
    "deletable": true,
    "editable": true,
    "id": "4naVML1rQ_JS",
    "outputId": "8ae8cadf-8cb6-4f5d-bc4d-7705fcaa095a"
   },
   "outputs": [
    {
     "data": {
      "text/html": [
       "<div>\n",
       "<style scoped>\n",
       "    .dataframe tbody tr th:only-of-type {\n",
       "        vertical-align: middle;\n",
       "    }\n",
       "\n",
       "    .dataframe tbody tr th {\n",
       "        vertical-align: top;\n",
       "    }\n",
       "\n",
       "    .dataframe thead th {\n",
       "        text-align: right;\n",
       "    }\n",
       "</style>\n",
       "<table border=\"1\" class=\"dataframe\">\n",
       "  <thead>\n",
       "    <tr style=\"text-align: right;\">\n",
       "      <th></th>\n",
       "      <th>Ranking</th>\n",
       "      <th>Nome</th>\n",
       "      <th>Plataforma</th>\n",
       "      <th>Ano</th>\n",
       "      <th>Gênero</th>\n",
       "      <th>Editora</th>\n",
       "      <th>Vendas América do Norte</th>\n",
       "      <th>Vendas EUA</th>\n",
       "      <th>Vendas Japão</th>\n",
       "      <th>Outras vendas</th>\n",
       "      <th>Vendas Global</th>\n",
       "    </tr>\n",
       "  </thead>\n",
       "  <tbody>\n",
       "    <tr>\n",
       "      <th>179</th>\n",
       "      <td>180</td>\n",
       "      <td>Madden NFL 2004</td>\n",
       "      <td>PS2</td>\n",
       "      <td>NaN</td>\n",
       "      <td>Sports</td>\n",
       "      <td>Electronic Arts</td>\n",
       "      <td>4.26</td>\n",
       "      <td>0.26</td>\n",
       "      <td>0.01</td>\n",
       "      <td>0.71</td>\n",
       "      <td>5.23</td>\n",
       "    </tr>\n",
       "    <tr>\n",
       "      <th>377</th>\n",
       "      <td>378</td>\n",
       "      <td>FIFA Soccer 2004</td>\n",
       "      <td>PS2</td>\n",
       "      <td>NaN</td>\n",
       "      <td>Sports</td>\n",
       "      <td>Electronic Arts</td>\n",
       "      <td>0.59</td>\n",
       "      <td>2.36</td>\n",
       "      <td>0.04</td>\n",
       "      <td>0.51</td>\n",
       "      <td>3.49</td>\n",
       "    </tr>\n",
       "    <tr>\n",
       "      <th>431</th>\n",
       "      <td>432</td>\n",
       "      <td>LEGO Batman: The Videogame</td>\n",
       "      <td>Wii</td>\n",
       "      <td>NaN</td>\n",
       "      <td>Action</td>\n",
       "      <td>Warner Bros. Interactive Entertainment</td>\n",
       "      <td>1.86</td>\n",
       "      <td>1.02</td>\n",
       "      <td>0.00</td>\n",
       "      <td>0.29</td>\n",
       "      <td>3.17</td>\n",
       "    </tr>\n",
       "    <tr>\n",
       "      <th>470</th>\n",
       "      <td>471</td>\n",
       "      <td>wwe Smackdown vs. Raw 2006</td>\n",
       "      <td>PS2</td>\n",
       "      <td>NaN</td>\n",
       "      <td>Fighting</td>\n",
       "      <td>NaN</td>\n",
       "      <td>1.57</td>\n",
       "      <td>1.02</td>\n",
       "      <td>0.00</td>\n",
       "      <td>0.41</td>\n",
       "      <td>3.00</td>\n",
       "    </tr>\n",
       "    <tr>\n",
       "      <th>607</th>\n",
       "      <td>608</td>\n",
       "      <td>Space Invaders</td>\n",
       "      <td>2600</td>\n",
       "      <td>NaN</td>\n",
       "      <td>Shooter</td>\n",
       "      <td>Atari</td>\n",
       "      <td>2.36</td>\n",
       "      <td>0.14</td>\n",
       "      <td>0.00</td>\n",
       "      <td>0.03</td>\n",
       "      <td>2.53</td>\n",
       "    </tr>\n",
       "  </tbody>\n",
       "</table>\n",
       "</div>"
      ],
      "text/plain": [
       "     Ranking                        Nome  ... Outras vendas  Vendas Global\n",
       "179      180             Madden NFL 2004  ...          0.71           5.23\n",
       "377      378            FIFA Soccer 2004  ...          0.51           3.49\n",
       "431      432  LEGO Batman: The Videogame  ...          0.29           3.17\n",
       "470      471  wwe Smackdown vs. Raw 2006  ...          0.41           3.00\n",
       "607      608              Space Invaders  ...          0.03           2.53\n",
       "\n",
       "[5 rows x 11 columns]"
      ]
     },
     "execution_count": 7,
     "metadata": {
      "tags": []
     },
     "output_type": "execute_result"
    }
   ],
   "source": [
    "#nullrows = gamedata['Ano'].isnull()\n",
    "#gamedata[nullrows].head()"
   ]
  },
  {
   "cell_type": "markdown",
   "metadata": {
    "colab_type": "text",
    "deletable": true,
    "editable": true,
    "id": "KwkcwmRBQ_JX"
   },
   "source": [
    "** Sumarizando os dados **\n",
    "\n",
    "Agora podemos também contar a frequencia com que um determinado valor aparece em uma coluna. Visualizaremos quantas vezes um mesmo game aparece na coluna 'Plataforma'"
   ]
  },
  {
   "cell_type": "code",
   "execution_count": 0,
   "metadata": {
    "colab": {
     "base_uri": "https://localhost:8080/",
     "height": 599
    },
    "colab_type": "code",
    "collapsed": false,
    "deletable": true,
    "editable": true,
    "id": "fWwhg6WzQ_JZ",
    "outputId": "9a202440-3b4c-4177-b630-be22835af51b"
   },
   "outputs": [
    {
     "data": {
      "text/plain": [
       "DS      2163\n",
       "PS2     2161\n",
       "PS3     1329\n",
       "Wii     1325\n",
       "X360    1265\n",
       "PSP     1213\n",
       "PS      1196\n",
       "PC       960\n",
       "XB       824\n",
       "GBA      822\n",
       "GC       556\n",
       "3DS      509\n",
       "PSV      413\n",
       "PS4      336\n",
       "N64      319\n",
       "SNES     239\n",
       "XOne     213\n",
       "SAT      173\n",
       "WiiU     143\n",
       "2600     133\n",
       "GB        98\n",
       "NES       98\n",
       "DC        52\n",
       "GEN       27\n",
       "NG        12\n",
       "SCD        6\n",
       "WS         6\n",
       "3DO        3\n",
       "TG16       2\n",
       "PCFX       1\n",
       "GG         1\n",
       "Name: Plataforma, dtype: int64"
      ]
     },
     "execution_count": 8,
     "metadata": {
      "tags": []
     },
     "output_type": "execute_result"
    }
   ],
   "source": [
    "#gamedata['Plataforma'].value_counts()"
   ]
  },
  {
   "cell_type": "markdown",
   "metadata": {
    "colab_type": "text",
    "deletable": true,
    "editable": true,
    "id": "9Mxd8G6ny4jG"
   },
   "source": [
    "Se quisermos, por exemplo, somar todos os valores de uma determinada coluna, basta invocar a função sum() identificando qual a coluna desejada. No caso, estamos somando todas as Vendas na América do Norte. Alem disso, podemos invocar outras métricas\n",
    "\n",
    "- Menor valor de um DataFrame: df.min()\n",
    "- Maior valor: df.max()\n",
    "- Index do menor valor: df.idmin()\n",
    "- Index do maior valor: df.idmax()\n",
    "- Média dos valores: df.mean()\n",
    "- Mediana dos valores: df.median()\n"
   ]
  },
  {
   "cell_type": "code",
   "execution_count": 0,
   "metadata": {
    "colab": {
     "base_uri": "https://localhost:8080/",
     "height": 35
    },
    "colab_type": "code",
    "collapsed": false,
    "deletable": true,
    "editable": true,
    "id": "vDWn-4FsQ_Jk",
    "outputId": "b8541683-3443-4bf4-99c9-4273c1fc8241"
   },
   "outputs": [
    {
     "data": {
      "text/plain": [
       "4392.950000000001"
      ]
     },
     "execution_count": 9,
     "metadata": {
      "tags": []
     },
     "output_type": "execute_result"
    }
   ],
   "source": [
    "#gamedata['Vendas América do Norte'].sum()"
   ]
  },
  {
   "cell_type": "markdown",
   "metadata": {
    "colab_type": "text",
    "deletable": true,
    "editable": true,
    "id": "uAEkyMe48xOz"
   },
   "source": [
    "# Praticando\n",
    "\n",
    "1.   Conte a frequencia de cada genero na coluna Gênero\n",
    "2.   Selecione todos os registros em que os campo Ano NÃO é nulo\n",
    "3.   Exiba a média das \"Vendas no Japão\" e e nos \"Vendas no EUA\"\n",
    "4.   Exiba o valor mínimo de venda na coluna \"Outras Vendas\"\n",
    "5.   Exiba a soma total das \"Outras Vendas\" e \"Vendas Global\" "
   ]
  },
  {
   "cell_type": "code",
   "execution_count": 0,
   "metadata": {
    "colab": {},
    "colab_type": "code",
    "collapsed": true,
    "deletable": true,
    "editable": true,
    "id": "lZZIj1qs8xkt"
   },
   "outputs": [],
   "source": []
  },
  {
   "cell_type": "markdown",
   "metadata": {
    "colab_type": "text",
    "deletable": true,
    "editable": true,
    "id": "difOY6VDQ_Jo"
   },
   "source": [
    "** Ordenação dos dados **\n",
    "\n",
    "Se desejamos ordenar os dados, basta informar os nomes das colunas as quais gostariamos de ordenar. Nesse caso, a ordem com que as colunas são informadas influenciam na ordenação: a ordenação é feita da primeira para a última coluna"
   ]
  },
  {
   "cell_type": "code",
   "execution_count": 0,
   "metadata": {
    "colab": {
     "base_uri": "https://localhost:8080/",
     "height": 528
    },
    "colab_type": "code",
    "collapsed": false,
    "deletable": true,
    "editable": true,
    "id": "hJoRhDteQ_Jq",
    "outputId": "2b8ac937-9672-46c9-bb19-b04737964f64"
   },
   "outputs": [
    {
     "data": {
      "text/html": [
       "<div>\n",
       "<style scoped>\n",
       "    .dataframe tbody tr th:only-of-type {\n",
       "        vertical-align: middle;\n",
       "    }\n",
       "\n",
       "    .dataframe tbody tr th {\n",
       "        vertical-align: top;\n",
       "    }\n",
       "\n",
       "    .dataframe thead th {\n",
       "        text-align: right;\n",
       "    }\n",
       "</style>\n",
       "<table border=\"1\" class=\"dataframe\">\n",
       "  <thead>\n",
       "    <tr style=\"text-align: right;\">\n",
       "      <th></th>\n",
       "      <th>Ranking</th>\n",
       "      <th>Nome</th>\n",
       "      <th>Plataforma</th>\n",
       "      <th>Ano</th>\n",
       "      <th>Gênero</th>\n",
       "      <th>Produtora</th>\n",
       "      <th>Vendas América do Norte</th>\n",
       "      <th>Vendas EUA</th>\n",
       "      <th>Vendas Japão</th>\n",
       "      <th>Outras vendas</th>\n",
       "      <th>Vendas Global</th>\n",
       "    </tr>\n",
       "  </thead>\n",
       "  <tbody>\n",
       "    <tr>\n",
       "      <th>4754</th>\n",
       "      <td>4756</td>\n",
       "      <td>'98 Koshien</td>\n",
       "      <td>PS</td>\n",
       "      <td>1998.0</td>\n",
       "      <td>Sports</td>\n",
       "      <td>Magical Company</td>\n",
       "      <td>0.15</td>\n",
       "      <td>0.10</td>\n",
       "      <td>0.12</td>\n",
       "      <td>0.03</td>\n",
       "      <td>0.41</td>\n",
       "    </tr>\n",
       "    <tr>\n",
       "      <th>8357</th>\n",
       "      <td>8359</td>\n",
       "      <td>.hack//G.U. Vol.1//Rebirth</td>\n",
       "      <td>PS2</td>\n",
       "      <td>2006.0</td>\n",
       "      <td>Role-Playing</td>\n",
       "      <td>Namco Bandai Games</td>\n",
       "      <td>0.00</td>\n",
       "      <td>0.00</td>\n",
       "      <td>0.17</td>\n",
       "      <td>0.00</td>\n",
       "      <td>0.17</td>\n",
       "    </tr>\n",
       "    <tr>\n",
       "      <th>7107</th>\n",
       "      <td>7109</td>\n",
       "      <td>.hack//G.U. Vol.2//Reminisce</td>\n",
       "      <td>PS2</td>\n",
       "      <td>2006.0</td>\n",
       "      <td>Role-Playing</td>\n",
       "      <td>Namco Bandai Games</td>\n",
       "      <td>0.11</td>\n",
       "      <td>0.09</td>\n",
       "      <td>0.00</td>\n",
       "      <td>0.03</td>\n",
       "      <td>0.23</td>\n",
       "    </tr>\n",
       "    <tr>\n",
       "      <th>8602</th>\n",
       "      <td>8604</td>\n",
       "      <td>.hack//G.U. Vol.2//Reminisce (jp sales)</td>\n",
       "      <td>PS2</td>\n",
       "      <td>2006.0</td>\n",
       "      <td>Role-Playing</td>\n",
       "      <td>Namco Bandai Games</td>\n",
       "      <td>0.00</td>\n",
       "      <td>0.00</td>\n",
       "      <td>0.16</td>\n",
       "      <td>0.00</td>\n",
       "      <td>0.16</td>\n",
       "    </tr>\n",
       "    <tr>\n",
       "      <th>8304</th>\n",
       "      <td>8306</td>\n",
       "      <td>.hack//G.U. Vol.3//Redemption</td>\n",
       "      <td>PS2</td>\n",
       "      <td>2007.0</td>\n",
       "      <td>Role-Playing</td>\n",
       "      <td>Namco Bandai Games</td>\n",
       "      <td>0.00</td>\n",
       "      <td>0.00</td>\n",
       "      <td>0.17</td>\n",
       "      <td>0.00</td>\n",
       "      <td>0.17</td>\n",
       "    </tr>\n",
       "    <tr>\n",
       "      <th>...</th>\n",
       "      <td>...</td>\n",
       "      <td>...</td>\n",
       "      <td>...</td>\n",
       "      <td>...</td>\n",
       "      <td>...</td>\n",
       "      <td>...</td>\n",
       "      <td>...</td>\n",
       "      <td>...</td>\n",
       "      <td>...</td>\n",
       "      <td>...</td>\n",
       "      <td>...</td>\n",
       "    </tr>\n",
       "    <tr>\n",
       "      <th>627</th>\n",
       "      <td>628</td>\n",
       "      <td>uDraw Studio</td>\n",
       "      <td>Wii</td>\n",
       "      <td>2010.0</td>\n",
       "      <td>Misc</td>\n",
       "      <td>THQ</td>\n",
       "      <td>1.67</td>\n",
       "      <td>0.58</td>\n",
       "      <td>0.00</td>\n",
       "      <td>0.20</td>\n",
       "      <td>2.46</td>\n",
       "    </tr>\n",
       "    <tr>\n",
       "      <th>7835</th>\n",
       "      <td>7837</td>\n",
       "      <td>uDraw Studio: Instant Artist</td>\n",
       "      <td>Wii</td>\n",
       "      <td>2011.0</td>\n",
       "      <td>Misc</td>\n",
       "      <td>THQ</td>\n",
       "      <td>0.08</td>\n",
       "      <td>0.09</td>\n",
       "      <td>0.00</td>\n",
       "      <td>0.02</td>\n",
       "      <td>0.19</td>\n",
       "    </tr>\n",
       "    <tr>\n",
       "      <th>15523</th>\n",
       "      <td>15526</td>\n",
       "      <td>uDraw Studio: Instant Artist</td>\n",
       "      <td>X360</td>\n",
       "      <td>2011.0</td>\n",
       "      <td>Misc</td>\n",
       "      <td>THQ</td>\n",
       "      <td>0.01</td>\n",
       "      <td>0.01</td>\n",
       "      <td>0.00</td>\n",
       "      <td>0.00</td>\n",
       "      <td>0.02</td>\n",
       "    </tr>\n",
       "    <tr>\n",
       "      <th>470</th>\n",
       "      <td>471</td>\n",
       "      <td>wwe Smackdown vs. Raw 2006</td>\n",
       "      <td>PS2</td>\n",
       "      <td>NaN</td>\n",
       "      <td>Fighting</td>\n",
       "      <td>NaN</td>\n",
       "      <td>1.57</td>\n",
       "      <td>1.02</td>\n",
       "      <td>0.00</td>\n",
       "      <td>0.41</td>\n",
       "      <td>3.00</td>\n",
       "    </tr>\n",
       "    <tr>\n",
       "      <th>9135</th>\n",
       "      <td>9137</td>\n",
       "      <td>¡Shin Chan Flipa en colores!</td>\n",
       "      <td>DS</td>\n",
       "      <td>2007.0</td>\n",
       "      <td>Platform</td>\n",
       "      <td>505 Games</td>\n",
       "      <td>0.00</td>\n",
       "      <td>0.00</td>\n",
       "      <td>0.14</td>\n",
       "      <td>0.00</td>\n",
       "      <td>0.14</td>\n",
       "    </tr>\n",
       "  </tbody>\n",
       "</table>\n",
       "<p>16598 rows × 11 columns</p>\n",
       "</div>"
      ],
      "text/plain": [
       "       Ranking  ... Vendas Global\n",
       "4754      4756  ...          0.41\n",
       "8357      8359  ...          0.17\n",
       "7107      7109  ...          0.23\n",
       "8602      8604  ...          0.16\n",
       "8304      8306  ...          0.17\n",
       "...        ...  ...           ...\n",
       "627        628  ...          2.46\n",
       "7835      7837  ...          0.19\n",
       "15523    15526  ...          0.02\n",
       "470        471  ...          3.00\n",
       "9135      9137  ...          0.14\n",
       "\n",
       "[16598 rows x 11 columns]"
      ]
     },
     "execution_count": 58,
     "metadata": {
      "tags": []
     },
     "output_type": "execute_result"
    }
   ],
   "source": [
    "#gamedata.sort_values(['Nome',\"Ano\"], ascending=True)"
   ]
  },
  {
   "cell_type": "markdown",
   "metadata": {
    "colab_type": "text",
    "deletable": true,
    "editable": true,
    "id": "byS0F44PA8cs"
   },
   "source": [
    "# Praticando\n",
    "\n",
    "1. Ordene os dados pelo Nome e pela Produtora de forma ascendente\n",
    "2. Ordene os dados pelo Ranking e pelo Ano de forma decrescente\n",
    "3. Exiba os dados da coluna Plataforma ordenados de forma decrescente pelas \"Vendas Globais\""
   ]
  },
  {
   "cell_type": "code",
   "execution_count": 0,
   "metadata": {
    "colab": {},
    "colab_type": "code",
    "collapsed": true,
    "deletable": true,
    "editable": true,
    "id": "_QEaUs5nA8rl"
   },
   "outputs": [],
   "source": []
  },
  {
   "cell_type": "markdown",
   "metadata": {
    "colab_type": "text",
    "deletable": true,
    "editable": true,
    "id": "1qWB7NXyzcdd"
   },
   "source": [
    "** Cruzamento de Dados**\n",
    "\n",
    "Se quisermos realizar um cruzamento de dados entre os campos gerando uma visualização estilo matriz podemos utilizar a função crosstab do pandas. Podemos, por exemplo, visualizar os gêneros de games por plataforma."
   ]
  },
  {
   "cell_type": "code",
   "execution_count": 0,
   "metadata": {
    "colab": {
     "base_uri": "https://localhost:8080/",
     "height": 378
    },
    "colab_type": "code",
    "collapsed": false,
    "deletable": true,
    "editable": true,
    "id": "VzEMRMy8zcvd",
    "outputId": "a0a94d48-4ed4-4675-ea63-79ed983e72f0"
   },
   "outputs": [
    {
     "data": {
      "text/html": [
       "<div>\n",
       "<style scoped>\n",
       "    .dataframe tbody tr th:only-of-type {\n",
       "        vertical-align: middle;\n",
       "    }\n",
       "\n",
       "    .dataframe tbody tr th {\n",
       "        vertical-align: top;\n",
       "    }\n",
       "\n",
       "    .dataframe thead th {\n",
       "        text-align: right;\n",
       "    }\n",
       "</style>\n",
       "<table border=\"1\" class=\"dataframe\">\n",
       "  <thead>\n",
       "    <tr style=\"text-align: right;\">\n",
       "      <th>Gênero</th>\n",
       "      <th>Action</th>\n",
       "      <th>Adventure</th>\n",
       "      <th>Fighting</th>\n",
       "      <th>Misc</th>\n",
       "      <th>Platform</th>\n",
       "      <th>Puzzle</th>\n",
       "      <th>Racing</th>\n",
       "      <th>Role-Playing</th>\n",
       "      <th>Shooter</th>\n",
       "      <th>Simulation</th>\n",
       "      <th>Sports</th>\n",
       "      <th>Strategy</th>\n",
       "    </tr>\n",
       "    <tr>\n",
       "      <th>Plataforma</th>\n",
       "      <th></th>\n",
       "      <th></th>\n",
       "      <th></th>\n",
       "      <th></th>\n",
       "      <th></th>\n",
       "      <th></th>\n",
       "      <th></th>\n",
       "      <th></th>\n",
       "      <th></th>\n",
       "      <th></th>\n",
       "      <th></th>\n",
       "      <th></th>\n",
       "    </tr>\n",
       "  </thead>\n",
       "  <tbody>\n",
       "    <tr>\n",
       "      <th>2600</th>\n",
       "      <td>61</td>\n",
       "      <td>2</td>\n",
       "      <td>2</td>\n",
       "      <td>5</td>\n",
       "      <td>9</td>\n",
       "      <td>11</td>\n",
       "      <td>6</td>\n",
       "      <td>0</td>\n",
       "      <td>24</td>\n",
       "      <td>1</td>\n",
       "      <td>12</td>\n",
       "      <td>0</td>\n",
       "    </tr>\n",
       "    <tr>\n",
       "      <th>3DO</th>\n",
       "      <td>0</td>\n",
       "      <td>1</td>\n",
       "      <td>0</td>\n",
       "      <td>0</td>\n",
       "      <td>0</td>\n",
       "      <td>1</td>\n",
       "      <td>0</td>\n",
       "      <td>0</td>\n",
       "      <td>0</td>\n",
       "      <td>1</td>\n",
       "      <td>0</td>\n",
       "      <td>0</td>\n",
       "    </tr>\n",
       "    <tr>\n",
       "      <th>3DS</th>\n",
       "      <td>182</td>\n",
       "      <td>37</td>\n",
       "      <td>14</td>\n",
       "      <td>53</td>\n",
       "      <td>28</td>\n",
       "      <td>20</td>\n",
       "      <td>11</td>\n",
       "      <td>86</td>\n",
       "      <td>7</td>\n",
       "      <td>30</td>\n",
       "      <td>26</td>\n",
       "      <td>15</td>\n",
       "    </tr>\n",
       "    <tr>\n",
       "      <th>DC</th>\n",
       "      <td>3</td>\n",
       "      <td>11</td>\n",
       "      <td>12</td>\n",
       "      <td>0</td>\n",
       "      <td>2</td>\n",
       "      <td>0</td>\n",
       "      <td>6</td>\n",
       "      <td>4</td>\n",
       "      <td>3</td>\n",
       "      <td>1</td>\n",
       "      <td>10</td>\n",
       "      <td>0</td>\n",
       "    </tr>\n",
       "    <tr>\n",
       "      <th>DS</th>\n",
       "      <td>343</td>\n",
       "      <td>240</td>\n",
       "      <td>36</td>\n",
       "      <td>393</td>\n",
       "      <td>92</td>\n",
       "      <td>238</td>\n",
       "      <td>67</td>\n",
       "      <td>200</td>\n",
       "      <td>42</td>\n",
       "      <td>285</td>\n",
       "      <td>148</td>\n",
       "      <td>79</td>\n",
       "    </tr>\n",
       "    <tr>\n",
       "      <th>GB</th>\n",
       "      <td>6</td>\n",
       "      <td>5</td>\n",
       "      <td>0</td>\n",
       "      <td>8</td>\n",
       "      <td>19</td>\n",
       "      <td>15</td>\n",
       "      <td>2</td>\n",
       "      <td>21</td>\n",
       "      <td>1</td>\n",
       "      <td>5</td>\n",
       "      <td>9</td>\n",
       "      <td>7</td>\n",
       "    </tr>\n",
       "    <tr>\n",
       "      <th>GBA</th>\n",
       "      <td>167</td>\n",
       "      <td>38</td>\n",
       "      <td>23</td>\n",
       "      <td>110</td>\n",
       "      <td>142</td>\n",
       "      <td>41</td>\n",
       "      <td>64</td>\n",
       "      <td>73</td>\n",
       "      <td>40</td>\n",
       "      <td>18</td>\n",
       "      <td>88</td>\n",
       "      <td>18</td>\n",
       "    </tr>\n",
       "    <tr>\n",
       "      <th>GC</th>\n",
       "      <td>101</td>\n",
       "      <td>20</td>\n",
       "      <td>42</td>\n",
       "      <td>36</td>\n",
       "      <td>73</td>\n",
       "      <td>13</td>\n",
       "      <td>63</td>\n",
       "      <td>27</td>\n",
       "      <td>48</td>\n",
       "      <td>12</td>\n",
       "      <td>110</td>\n",
       "      <td>11</td>\n",
       "    </tr>\n",
       "    <tr>\n",
       "      <th>GEN</th>\n",
       "      <td>3</td>\n",
       "      <td>2</td>\n",
       "      <td>5</td>\n",
       "      <td>1</td>\n",
       "      <td>7</td>\n",
       "      <td>0</td>\n",
       "      <td>1</td>\n",
       "      <td>3</td>\n",
       "      <td>1</td>\n",
       "      <td>0</td>\n",
       "      <td>3</td>\n",
       "      <td>1</td>\n",
       "    </tr>\n",
       "    <tr>\n",
       "      <th>GG</th>\n",
       "      <td>0</td>\n",
       "      <td>0</td>\n",
       "      <td>0</td>\n",
       "      <td>0</td>\n",
       "      <td>1</td>\n",
       "      <td>0</td>\n",
       "      <td>0</td>\n",
       "      <td>0</td>\n",
       "      <td>0</td>\n",
       "      <td>0</td>\n",
       "      <td>0</td>\n",
       "      <td>0</td>\n",
       "    </tr>\n",
       "  </tbody>\n",
       "</table>\n",
       "</div>"
      ],
      "text/plain": [
       "Gênero      Action  Adventure  Fighting  ...  Simulation  Sports  Strategy\n",
       "Plataforma                               ...                              \n",
       "2600            61          2         2  ...           1      12         0\n",
       "3DO              0          1         0  ...           1       0         0\n",
       "3DS            182         37        14  ...          30      26        15\n",
       "DC               3         11        12  ...           1      10         0\n",
       "DS             343        240        36  ...         285     148        79\n",
       "GB               6          5         0  ...           5       9         7\n",
       "GBA            167         38        23  ...          18      88        18\n",
       "GC             101         20        42  ...          12     110        11\n",
       "GEN              3          2         5  ...           0       3         1\n",
       "GG               0          0         0  ...           0       0         0\n",
       "\n",
       "[10 rows x 12 columns]"
      ]
     },
     "execution_count": 19,
     "metadata": {
      "tags": []
     },
     "output_type": "execute_result"
    }
   ],
   "source": [
    "#cruzamentoDados = pd.crosstab(gamedata['Plataforma'], gamedata['Gênero'])\n",
    "#cruzamentoDados.head(10)"
   ]
  },
  {
   "cell_type": "markdown",
   "metadata": {
    "colab_type": "text",
    "deletable": true,
    "editable": true,
    "id": "hHjziNon0Nxn"
   },
   "source": [
    "Podemos filtrar os dados que desejamos selecionar e exibir. para isso podemos aplicar uma função diretamente sobre a seleção dos dados. Podemos, por exemplo, selecionar somente as plataformas que possuem mais de 1000 titulos lançados."
   ]
  },
  {
   "cell_type": "code",
   "execution_count": 0,
   "metadata": {
    "colab": {
     "base_uri": "https://localhost:8080/",
     "height": 288
    },
    "colab_type": "code",
    "collapsed": false,
    "deletable": true,
    "editable": true,
    "id": "HGrkgwf40OFu",
    "outputId": "ba5be6d8-3249-4e08-dfde-2c09698bd32d"
   },
   "outputs": [
    {
     "data": {
      "text/html": [
       "<div>\n",
       "<style scoped>\n",
       "    .dataframe tbody tr th:only-of-type {\n",
       "        vertical-align: middle;\n",
       "    }\n",
       "\n",
       "    .dataframe tbody tr th {\n",
       "        vertical-align: top;\n",
       "    }\n",
       "\n",
       "    .dataframe thead th {\n",
       "        text-align: right;\n",
       "    }\n",
       "</style>\n",
       "<table border=\"1\" class=\"dataframe\">\n",
       "  <thead>\n",
       "    <tr style=\"text-align: right;\">\n",
       "      <th>Gênero</th>\n",
       "      <th>Action</th>\n",
       "      <th>Adventure</th>\n",
       "      <th>Fighting</th>\n",
       "      <th>Misc</th>\n",
       "      <th>Platform</th>\n",
       "      <th>Puzzle</th>\n",
       "      <th>Racing</th>\n",
       "      <th>Role-Playing</th>\n",
       "      <th>Shooter</th>\n",
       "      <th>Simulation</th>\n",
       "      <th>Sports</th>\n",
       "      <th>Strategy</th>\n",
       "      <th>Total</th>\n",
       "    </tr>\n",
       "    <tr>\n",
       "      <th>Plataforma</th>\n",
       "      <th></th>\n",
       "      <th></th>\n",
       "      <th></th>\n",
       "      <th></th>\n",
       "      <th></th>\n",
       "      <th></th>\n",
       "      <th></th>\n",
       "      <th></th>\n",
       "      <th></th>\n",
       "      <th></th>\n",
       "      <th></th>\n",
       "      <th></th>\n",
       "      <th></th>\n",
       "    </tr>\n",
       "  </thead>\n",
       "  <tbody>\n",
       "    <tr>\n",
       "      <th>DS</th>\n",
       "      <td>343</td>\n",
       "      <td>240</td>\n",
       "      <td>36</td>\n",
       "      <td>393</td>\n",
       "      <td>92</td>\n",
       "      <td>238</td>\n",
       "      <td>67</td>\n",
       "      <td>200</td>\n",
       "      <td>42</td>\n",
       "      <td>285</td>\n",
       "      <td>148</td>\n",
       "      <td>79</td>\n",
       "      <td>2163</td>\n",
       "    </tr>\n",
       "    <tr>\n",
       "      <th>PS2</th>\n",
       "      <td>348</td>\n",
       "      <td>196</td>\n",
       "      <td>150</td>\n",
       "      <td>222</td>\n",
       "      <td>103</td>\n",
       "      <td>18</td>\n",
       "      <td>216</td>\n",
       "      <td>187</td>\n",
       "      <td>160</td>\n",
       "      <td>90</td>\n",
       "      <td>400</td>\n",
       "      <td>71</td>\n",
       "      <td>2161</td>\n",
       "    </tr>\n",
       "    <tr>\n",
       "      <th>PS3</th>\n",
       "      <td>380</td>\n",
       "      <td>74</td>\n",
       "      <td>76</td>\n",
       "      <td>124</td>\n",
       "      <td>37</td>\n",
       "      <td>3</td>\n",
       "      <td>92</td>\n",
       "      <td>119</td>\n",
       "      <td>156</td>\n",
       "      <td>31</td>\n",
       "      <td>213</td>\n",
       "      <td>24</td>\n",
       "      <td>1329</td>\n",
       "    </tr>\n",
       "    <tr>\n",
       "      <th>Wii</th>\n",
       "      <td>238</td>\n",
       "      <td>84</td>\n",
       "      <td>42</td>\n",
       "      <td>280</td>\n",
       "      <td>58</td>\n",
       "      <td>55</td>\n",
       "      <td>94</td>\n",
       "      <td>35</td>\n",
       "      <td>66</td>\n",
       "      <td>87</td>\n",
       "      <td>261</td>\n",
       "      <td>25</td>\n",
       "      <td>1325</td>\n",
       "    </tr>\n",
       "    <tr>\n",
       "      <th>X360</th>\n",
       "      <td>324</td>\n",
       "      <td>47</td>\n",
       "      <td>65</td>\n",
       "      <td>126</td>\n",
       "      <td>24</td>\n",
       "      <td>7</td>\n",
       "      <td>105</td>\n",
       "      <td>76</td>\n",
       "      <td>203</td>\n",
       "      <td>40</td>\n",
       "      <td>220</td>\n",
       "      <td>28</td>\n",
       "      <td>1265</td>\n",
       "    </tr>\n",
       "    <tr>\n",
       "      <th>PSP</th>\n",
       "      <td>222</td>\n",
       "      <td>213</td>\n",
       "      <td>74</td>\n",
       "      <td>106</td>\n",
       "      <td>36</td>\n",
       "      <td>44</td>\n",
       "      <td>65</td>\n",
       "      <td>192</td>\n",
       "      <td>37</td>\n",
       "      <td>29</td>\n",
       "      <td>135</td>\n",
       "      <td>60</td>\n",
       "      <td>1213</td>\n",
       "    </tr>\n",
       "    <tr>\n",
       "      <th>PS</th>\n",
       "      <td>157</td>\n",
       "      <td>69</td>\n",
       "      <td>108</td>\n",
       "      <td>76</td>\n",
       "      <td>64</td>\n",
       "      <td>32</td>\n",
       "      <td>145</td>\n",
       "      <td>97</td>\n",
       "      <td>96</td>\n",
       "      <td>60</td>\n",
       "      <td>222</td>\n",
       "      <td>70</td>\n",
       "      <td>1196</td>\n",
       "    </tr>\n",
       "  </tbody>\n",
       "</table>\n",
       "</div>"
      ],
      "text/plain": [
       "Gênero      Action  Adventure  Fighting  ...  Sports  Strategy  Total\n",
       "Plataforma                               ...                         \n",
       "DS             343        240        36  ...     148        79   2163\n",
       "PS2            348        196       150  ...     400        71   2161\n",
       "PS3            380         74        76  ...     213        24   1329\n",
       "Wii            238         84        42  ...     261        25   1325\n",
       "X360           324         47        65  ...     220        28   1265\n",
       "PSP            222        213        74  ...     135        60   1213\n",
       "PS             157         69       108  ...     222        70   1196\n",
       "\n",
       "[7 rows x 13 columns]"
      ]
     },
     "execution_count": 20,
     "metadata": {
      "tags": []
     },
     "output_type": "execute_result"
    }
   ],
   "source": [
    "#cruzamentoDados['Total'] = cruzamentoDados.sum(axis=1)\n",
    "#top_platforms = cruzamentoDados[cruzamentoDados['Total'] > 1000]\n",
    "#top_platforms.head(10)"
   ]
  },
  {
   "cell_type": "markdown",
   "metadata": {
    "colab_type": "text",
    "deletable": true,
    "editable": true,
    "id": "_lfWoAFDBifU"
   },
   "source": [
    "# Praticando\n",
    "\n",
    "1. Ordene a tabela pela coluna \"Total\" de forma descrescente \n",
    "2. Selecione todas as plataformas que tiveram vendas abaixo de 100 unidades do genero Adventure\n",
    "3. Pegue o resultado da atividade anterior (2) e ordene de forma crescente "
   ]
  },
  {
   "cell_type": "code",
   "execution_count": 0,
   "metadata": {
    "colab": {},
    "colab_type": "code",
    "collapsed": true,
    "deletable": true,
    "editable": true,
    "id": "SvOgk0WiBipQ"
   },
   "outputs": [],
   "source": []
  },
  {
   "cell_type": "markdown",
   "metadata": {
    "colab_type": "text",
    "deletable": true,
    "editable": true,
    "id": "Kl9_xrICQ_Ju"
   },
   "source": [
    "# Aprendendo Matplotlib\n",
    "\n",
    "é uma biblioteca de software para criação de gráficos e visualizações de dados em geral, feita para e da linguagem de programação Python e sua extensão de matemática NumPy.\n",
    "\n",
    "Essa prática foi adaptada de Paulo Vasconcellos: https://paulovasconcellos.com.br/15-comandos-de-matplotlib-que-talvez-voc%C3%AA-n%C3%A3o-conhe%C3%A7a-17cf88a75119.\n",
    "\n",
    "Se quisermos plotar essa informação basta chamar a função plot()"
   ]
  },
  {
   "cell_type": "code",
   "execution_count": 0,
   "metadata": {
    "colab": {
     "base_uri": "https://localhost:8080/",
     "height": 283
    },
    "colab_type": "code",
    "collapsed": false,
    "deletable": true,
    "editable": true,
    "id": "psVofYpZQ_Jv",
    "outputId": "270d5cf0-1c59-4ac6-9262-c46897e819ec"
   },
   "outputs": [
    {
     "data": {
      "text/plain": [
       "<matplotlib.axes._subplots.AxesSubplot at 0x7ff4f0eb80f0>"
      ]
     },
     "execution_count": 11,
     "metadata": {
      "tags": []
     },
     "output_type": "execute_result"
    },
    {
     "data": {
      "image/png": "[encoded data removed]",
      "text/plain": [
       "<Figure size 432x288 with 1 Axes>"
      ]
     },
     "metadata": {
      "tags": []
     },
     "output_type": "display_data"
    }
   ],
   "source": [
    "%matplotlib inline #faz com que os gráficos sejam mostrados diretamente no seu notebook.\n",
    "\n",
    "import matplotlib.pyplot as plt\n",
    "\n",
    "gamedata['Plataforma'].value_counts().plot()"
   ]
  },
  {
   "cell_type": "markdown",
   "metadata": {},
   "source": []
  },
  {
   "cell_type": "code",
   "execution_count": null,
   "metadata": {
    "collapsed": true
   },
   "outputs": [],
   "source": [
    "#plt.savefig('nome_da_imagem.png')\n",
    "#plt.savefig('nome_da_imagem.png'`, transparent = True)"
   ]
  },
  {
   "cell_type": "markdown",
   "metadata": {},
   "source": [
    "Outra forma de plotar nosso gráfico e determinar os eixos x e y, assim como as suas propriedades"
   ]
  },
  {
   "cell_type": "code",
   "execution_count": null,
   "metadata": {
    "collapsed": true
   },
   "outputs": [],
   "source": [
    "x = [1, 2, 3, 4, 5, 6, 7, 8, 9]\n",
    "y = [11, 12, 13, 14, 15, 16, 17, 18, 19]\n",
    "\n",
    "plt.plot(x, y)\n",
    "plt.title('SEU TÍTULO')\n",
    "plt.xlabel('NOME DO EIXO X')\n",
    "plt.ylabel('NOME DO EIXO Y')\n",
    "plt.show()"
   ]
  },
  {
   "cell_type": "markdown",
   "metadata": {},
   "source": [
    "Escolher o tipo do grafico também é possível."
   ]
  },
  {
   "cell_type": "code",
   "execution_count": null,
   "metadata": {
    "collapsed": true
   },
   "outputs": [],
   "source": [
    "plt.plot(x, y, kind='bar')"
   ]
  },
  {
   "cell_type": "markdown",
   "metadata": {
    "colab_type": "text",
    "deletable": true,
    "editable": true,
    "id": "lcalCsxC_gI4"
   },
   "source": [
    "# Praticando\n",
    "\n",
    "1. Plote no gráfico o resultado da atividade 3 da ultima prática exibindo a coluna \"Total\""
   ]
  },
  {
   "cell_type": "code",
   "execution_count": 0,
   "metadata": {
    "colab": {},
    "colab_type": "code",
    "collapsed": true,
    "deletable": true,
    "editable": true,
    "id": "n_CzbQtBQ_J8"
   },
   "outputs": [],
   "source": []
  }
 ],
 "metadata": {
  "colab": {
   "collapsed_sections": [],
   "name": "EX2_TecnologiasEmergentes_AprendendoPandas_VideoGames.ipynb",
   "provenance": []
  },
  "kernelspec": {
   "display_name": "Python 3",
   "language": "python",
   "name": "python3"
  },
  "language_info": {
   "codemirror_mode": {
    "name": "ipython",
    "version": 3
   },
   "file_extension": ".py",
   "mimetype": "text/x-python",
   "name": "python",
   "nbconvert_exporter": "python",
   "pygments_lexer": "ipython3",
   "version": "3.5.2"
  }
 },
 "nbformat": 4,
 "nbformat_minor": 0
}
