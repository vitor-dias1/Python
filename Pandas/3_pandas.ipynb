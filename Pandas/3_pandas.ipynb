{
 "cells": [
  {
   "cell_type": "markdown",
   "metadata": {},
   "source": [
    "# Pandas\n",
    "Pandas é uma biblioteca Python de código aberto para análise de dados, que oferece alto desempenho, estruturas de dados de fácil utilização e ferramentas de análise de dados. Para usar a biblioteca, basta utilizar o seguinte comando de importação abaixo:\n",
    "\n",
    "```python\n",
    "import numpy as np\n",
    "import pandas as pd\n",
    "```"
   ]
  },
  {
   "cell_type": "markdown",
   "metadata": {},
   "source": [
    "## Obtendo os Dados\n",
    "\n",
    "| Formato | Descrição                        |  Função de Leitura | Função de Escrita |\n",
    "|:--------|:---------------------------------|:-------------------|:------------------|\n",
    "| Texto   | CSV                              | read_csv( )        | to_csv( )         |\n",
    "| Texto   | JSON                             | read_json( )       | to_json( )        |\n",
    "| Texto   | HTML                             | read_html( )       | to_html( )        | \n",
    "| Texto   | Área de Transferência de Memória | read_clipboard( )  | to_clipboard( )   |\n",
    "| Binário | MS Excel                         | read_excel( )      | to_excel( )       |\n",
    "| Binário | HDF5 Format                      | read_hdf( )        | to_hdf( )         |\n",
    "| Binário | Feather Format                   | read_feather( )    | to_feather( )     |\n",
    "| Binário | Parquet Format                   | read_parquet( )    | to_parquet( )     |\n",
    "| Binário | Msgpack                          | read_msgpack( )    | to_msgpack( )     |\n",
    "| Binário | Stata                            | read_stata( )      | to_stata( )       |\n",
    "| Binário | SAS                              | read_sas( )        | -                 | \n",
    "| Binário | Python Pickle Format             | read_pickle( )     | to_pickle( )      |\n",
    "| SQL     | SQL                              | read_sql( )        | to_sql( )         |\n",
    "| SQL     | Google Big Query                 | read_gbq( )        | to_gbq( )         |\n",
    "\n",
    "### Exemplos\n",
    "\n",
    "```python\n",
    "# Exemplo 1: Leitura e Escrita para CSV\n",
    "\n",
    "# Lê 5 linhas de um arquivo CSV sem cabeçalho.\n",
    "pd.read_csv(\"arquivo.csv\", header=None, nrows=5) \n",
    "\n",
    "# Exporta os dados de uma estrutura de dados \n",
    "# Data Frame do Pandas para um arquivo csv.\n",
    "dados_data_frame.to_csv(\"dados_data_frame.csv\")\n",
    "\n",
    "\n",
    "# Exemplo 2: Leitura e Escrita para EXCEL\n",
    "pd.read_excel(\"planilha.xlsx\")\n",
    "\n",
    "dados_data_frame.to_excel(\"dados_data_frame.xlsx\", sheet_name=\"Planilha 1\")\n",
    "\n",
    "# Carrega múltiplas planilhas do mesmo arquivo\n",
    "planilha = pd.ExcelFile(\"arquivo.xls\")\n",
    "dados_data_frame = pd.read_excel(xlsx, \"Planilha 1\")\n",
    "```\n"
   ]
  },
  {
   "cell_type": "code",
   "execution_count": null,
   "metadata": {},
   "outputs": [],
   "source": []
  },
  {
   "cell_type": "markdown",
   "metadata": {},
   "source": [
    "## Estruturas de Dados\n",
    "\n",
    "### Series\n",
    "Vetor unidimensional rotulado capaz de armazenar qualquer tipo de dado"
   ]
  },
  {
   "cell_type": "code",
   "execution_count": null,
   "metadata": {},
   "outputs": [],
   "source": [
    "import numpy as np\n",
    "import pandas as pd\n",
    "\n",
    "s = pd.Series(np.random.randn(5), index=['a', 'b', 'c', 'd', 'e'])\n",
    "s"
   ]
  },
  {
   "cell_type": "markdown",
   "metadata": {},
   "source": [
    "### Data Frame\n",
    "Matriz rotulada contendo colunas com diferentes tipos de dados"
   ]
  },
  {
   "cell_type": "code",
   "execution_count": null,
   "metadata": {},
   "outputs": [],
   "source": [
    "data = {\n",
    "    'Country': ['Belgium',  'India',  'Brazil'],\n",
    "    'Capital': ['Brussels',  'New Delhi',  'Brasilia'],\n",
    "    'Population': [11190846, 1303171035, 207847528]\n",
    "}\n",
    "\n",
    "df = pd.DataFrame(data, columns=['Country',  'Capital',  'Population'])\n",
    "\n",
    "df"
   ]
  },
  {
   "cell_type": "markdown",
   "metadata": {},
   "source": [
    "### Indexação / Seleção\n",
    "\n",
    "| Operação                                    | Sintaxe            | Resultado |\n",
    "|:--------------------------------------------|:-------------------|:----------|\n",
    "| Seleciona Coluna                            | df[col]            | Series    |\n",
    "| Seleciona Linha por nome do rótulo          | df.loc[rotulo]     | Series    |\n",
    "| Seleciona linhas por posição (inteiro)      | df.iloc[posicao]   | Series    |\n",
    "| Divide Linhas                               | df[5:10]           | DataFrame |\n",
    "| Seleciona linhas por vetor booleano         | df[vetor_booleano] | DataFrame |\n"
   ]
  },
  {
   "cell_type": "code",
   "execution_count": null,
   "metadata": {},
   "outputs": [],
   "source": [
    "import numpy as np\n",
    "import pandas as pd\n",
    "\n",
    "data = {\n",
    "    'Country': ['Belgium',  'India',  'Brazil'],\n",
    "    'Capital': ['Brussels',  'New Delhi',  'Brasilia'],\n",
    "    'Population': [11190846, 1303171035, 207847528]\n",
    "}\n",
    "\n",
    "df = pd.DataFrame(data, columns=['Country',  'Capital',  'Population'])\n",
    "\n",
    "# Seleção por posição\n",
    "df.iloc[[0],[0]]\n",
    "\n",
    "# Seleção por rótulo\n",
    "df.loc[[0], ['Country']]\n",
    "\n",
    "# Rótulo/Posição\n",
    "df.loc[2]\n",
    "df.loc[:, 'Capital']\n",
    "df.loc[2, 'Capital']"
   ]
  },
  {
   "cell_type": "markdown",
   "metadata": {},
   "source": [
    "### Missing Data (Dados Ausentes)\n",
    "\n",
    "O pandas utiliza o valor np.nan para representar todos os dados auentes que possam aparecer no conjunto de dados. Para detectar dados ausentes facilmente, o Pandas fornece as funções: isna() e notna(), que são também métodos dos objetos do tipo Series e DataFrame."
   ]
  },
  {
   "cell_type": "code",
   "execution_count": null,
   "metadata": {},
   "outputs": [],
   "source": [
    "import numpy as np\n",
    "import pandas as pd\n",
    "\n",
    "df = pd.DataFrame(np.random.randn(5, 3), index=['A', 'C', 'E', 'F', 'H'], \n",
    "                  columns=['one', 'two', 'three'])\n",
    "\n",
    "df['four'] = 'bar' # Cria uma nova coluna (four) e adiciona valores constantes (bar)\n",
    "df['five'] = df['one'] > 0 # Cria uma nova coluna (five) e adiciona true se a coluna 1 for maior que zero\n",
    "df\n",
    "\n",
    "# Reindexa o data frame para simularmos os missing datas\n",
    "# Ele adicionou as linhas ausentes: B, D e G; e preencheu\n",
    "# com dados auentes (NaN)\n",
    "df2 = df.reindex(['A', 'B', 'C', 'D', 'E', 'F', 'G', 'H'])\n",
    "\n",
    "# Avalia o data frame e coloca True no local dos dados ausentes\n",
    "df2\n",
    "pd.isna(df2)\n",
    "df2.isna()\n",
    "\n",
    "# É possível fazer o teste especificando colunas\n",
    "df2['one']\n",
    "pd.isna(df2['one']) \n",
    "df2['four'].notna()"
   ]
  },
  {
   "cell_type": "markdown",
   "metadata": {},
   "source": [
    "### Ordenação e Ranking\n",
    "\n",
    "| Função                          | Descrição                        | \n",
    "|:--------------------------------|:---------------------------------|\n",
    "| df.sort_index()                 | Ordena por índices               |\n",
    "| df.sort_values(by='NomeColuna') | Ordena por valores               |\n",
    "| df.rank()                       | Gera um ranking para as entradas |\n",
    "\n",
    "\n",
    "### Informações Básicas\n",
    "\n",
    "| Função         | Descrição                                | \n",
    "|:---------------|:-----------------------------------------|\n",
    "| df.shape()     | Retorna (linhas, colunas)                |\n",
    "| df.index()     | Descreve os índices                      |\n",
    "| df.columns()   | Descreve as colunas do Data Frame        |\n",
    "| df.info()      | Informações do Data Frame                |\n",
    "| df.count()     | Retorna a contagem dos valores não nulos |\n",
    "\n",
    "\n",
    "### Sumário Quantitativo\n",
    "\n",
    "| Função         | Descrição                      | \n",
    "|:---------------|:-------------------------------|\n",
    "| df.sum()       | Soma dos valores               |\n",
    "| df.cumsum()    | Soma cumulativa dos valores    |\n",
    "| df.min()       | Obtém o valor mínimo           |\n",
    "| df.max()       | Obtém o valor máximo           |\n",
    "| df.idxmin()    | Obtém o valor mínimo do índice |\n",
    "| df.idxmax()    | Obtém o valor máximo do índice |\n",
    "| df.describe()  | Gera estatísticas descritivas que resumem a tendência central, a dispersão e a forma da distribuição de um conjunto de dados, excluindo os valores NaN. |\n",
    "| df.mean()      | Calcula a Média                |\n",
    "| df.median()    | Calcula a Mediana              |\n",
    "\n"
   ]
  },
  {
   "cell_type": "markdown",
   "metadata": {},
   "source": [
    "## Aprendendo Pandas na Prática\n",
    "\n",
    "Considerando o famoso conjunto de dados: [**Dados de 93 carros à venda nos EUA em 1993**](https://stat.ethz.ch/R-manual/R-devel/library/MASS/html/Cars93.html) disponível na pasta [`data/carros_93.csv`](data/carros_93.csv), faremos algumas tarefas rotineiras de um cientista de dados utilizando a biblioteca Pandas.\n",
    "\n",
    "### Dicionário de Dados"
   ]
  },
  {
   "cell_type": "markdown",
   "metadata": {},
   "source": [
    "| Nº | Coluna                      | Descrição                                                 |\n",
    "|:--:|:----------------------------|:----------------------------------------------------------|\n",
    "|  1 | fabricante                  | Fabricante do carro.                                      |\n",
    "|  2 | modelo                      | Modelo do carro.                                          |\n",
    "|  3 | tipo                        | Pequeno, Esportivo, Compacto, Médio, Grande ou Van.       |\n",
    "|  4 | preco_min                   | Preço mínimo em dólares para uma versão básica.           |\n",
    "|  5 | preco                       | Preço médio em dólares para uma versão básica.            |\n",
    "|  6 | preco_max                   | Preço máximo em dólares para uma versão básica.           |\n",
    "|  7 | mpg_cidade                  | Consumo em Milhas por Galão (MPG) na cidade.              |\n",
    "|  8 | mpg_rodovia                 | Consumo em Milhas por Galão (MPG) na estrada.             |\n",
    "|  9 | airbags                     | Nenhum, Somente Motorista ou Motorista e Passageiro.      |\n",
    "| 10 | tracao                      | Traseira, Dianteira ou 4x4                                |\n",
    "| 11 | cilindros                   | Número de cilindros                                       |\n",
    "| 12 | tamanho_motor               | Tamanho do motor em litros                                |\n",
    "| 13 | horsepower                  | Cavalos-força (máximo).                                   |\n",
    "| 14 | rpm                         | RPM (rotações por minuto na potência máxima).             |\n",
    "| 15 | revolucoes_milha            | Rotações do motor por milha (na marcha mais alta).        |\n",
    "| 16 | transmissao_manual          | Possui transmissão manual?                                |\n",
    "| 17 | capacidade_tanque           | Capacidade do tanque de combustível em galões americanos. |\n",
    "| 18 | passageiros                 | Capacidade de passageiros (pessoas)                       |\n",
    "| 19 | comprimento_in              | Comprimento (polegadas).                                  |\n",
    "| 20 | distancia_eixo              | Distância entre eixos (polegadas).                        |\n",
    "| 21 | largura_in                  | Largura (polegadas).                                      |\n",
    "| 22 | espaco_inversao_marcha_ft   | Espaço em inversão de marcha (pés).                       |\n",
    "| 23 | tamanho_assento_traseiro_in | Tamanho do banco traseiro (polegadas).                    |\n",
    "| 24 | porta_mala_ft3              | Capacidade de bagagem (pés cúbicos)                       |\n",
    "| 25 | peso_lb                     | Peso (libras).                                            |\n",
    "| 26 | origem                      | Origem de empresas americanas ou fora dos EUA.            |\n",
    "| 27 | fabricante_modelo           | Combinação de fabricante e modelo.                        |\n",
    "\n",
    "Os carros foram selecionados aleatoriamente entre os modelos de automóveis de passageiros de 1993 listados na edição do Consumer Reports e no PACE Buying Guide. As caminhonetes e os veículos esportivos/utilitários foram eliminados devido a informações incompletas na fonte do Consumer Reports. Os modelos duplicados (por exemplo, Dodge Shadow e Plymouth Sundance) foram listados no máximo uma vez. Uma descrição mais detalhada pode ser encontrada em Lock (1993).\n",
    "\n",
    "#### Referências\n",
    "\n",
    "- Lock, R. H. (1993) 1993 New Car Data. Journal of Statistics Education 1(1). https://doi.org/10.1080/10691898.1993.11910459\n",
    "- Venables, W. N. and Ripley, B. D. (1999) Modern Applied Statistics with S-PLUS. Third Edition. Springer.\n"
   ]
  },
  {
   "cell_type": "markdown",
   "metadata": {},
   "source": [
    "1. Importe o pacote Pandas com o nome pd."
   ]
  },
  {
   "cell_type": "code",
   "execution_count": null,
   "metadata": {},
   "outputs": [],
   "source": []
  },
  {
   "cell_type": "markdown",
   "metadata": {},
   "source": [
    "2. Carregue em memória o conjunto de dados disponível na pasta [`data/carros_93.csv`](data/carros_93.csv) para uma variável chamada **df**."
   ]
  },
  {
   "cell_type": "code",
   "execution_count": null,
   "metadata": {},
   "outputs": [],
   "source": []
  },
  {
   "cell_type": "markdown",
   "metadata": {},
   "source": [
    "3. Qual é o número de linhas e colunas?"
   ]
  },
  {
   "cell_type": "code",
   "execution_count": null,
   "metadata": {},
   "outputs": [],
   "source": []
  },
  {
   "cell_type": "markdown",
   "metadata": {},
   "source": [
    "4. Quais são os tipos de dados de cada uma das colunas?"
   ]
  },
  {
   "cell_type": "code",
   "execution_count": null,
   "metadata": {},
   "outputs": [],
   "source": []
  },
  {
   "cell_type": "markdown",
   "metadata": {},
   "source": [
    "5. Mostre a quantidade de colunas para cada um dos tipos de dados."
   ]
  },
  {
   "cell_type": "code",
   "execution_count": null,
   "metadata": {},
   "outputs": [],
   "source": []
  },
  {
   "cell_type": "markdown",
   "metadata": {},
   "source": [
    "6. Exiba um sumário estatístico do conjunto de dados."
   ]
  },
  {
   "cell_type": "code",
   "execution_count": null,
   "metadata": {},
   "outputs": [],
   "source": []
  },
  {
   "cell_type": "markdown",
   "metadata": {},
   "source": [
    "7. Converta o dataframe de carros para um vetor NumPy chamado **carros**"
   ]
  },
  {
   "cell_type": "code",
   "execution_count": null,
   "metadata": {},
   "outputs": [],
   "source": []
  },
  {
   "cell_type": "markdown",
   "metadata": {},
   "source": [
    "8. Converta o data Frame de carros para uma lista chamada **lista_carros**."
   ]
  },
  {
   "cell_type": "code",
   "execution_count": null,
   "metadata": {},
   "outputs": [],
   "source": []
  },
  {
   "cell_type": "markdown",
   "metadata": {},
   "source": [
    "9. Imprima as informações básicas do Data Frame."
   ]
  },
  {
   "cell_type": "code",
   "execution_count": null,
   "metadata": {},
   "outputs": [],
   "source": []
  },
  {
   "cell_type": "markdown",
   "metadata": {},
   "source": [
    "10. Analise as informações trazidas pela função `df.info()`, comparando a informação **Range Index** com todos os valores numéricos da segunda coluna que aparece nos resultados, sem seguida, responda:\n",
    "\n",
    "> O que esses resultados podem evidenciar?\n",
    "\n",
    "**RESPOSTA**:"
   ]
  },
  {
   "cell_type": "markdown",
   "metadata": {},
   "source": [
    "11. Verifique se Data Frame (df) tem algum valor ausente."
   ]
  },
  {
   "cell_type": "code",
   "execution_count": null,
   "metadata": {},
   "outputs": [],
   "source": []
  },
  {
   "cell_type": "markdown",
   "metadata": {},
   "source": [
    "12. Qual é o número total de dados ausentes por coluna?"
   ]
  },
  {
   "cell_type": "code",
   "execution_count": null,
   "metadata": {},
   "outputs": [],
   "source": []
  },
  {
   "cell_type": "markdown",
   "metadata": {},
   "source": [
    "13. Qual é o número total de dados ausentes no Data Frame?"
   ]
  },
  {
   "cell_type": "code",
   "execution_count": null,
   "metadata": {},
   "outputs": [],
   "source": []
  },
  {
   "cell_type": "markdown",
   "metadata": {},
   "source": [
    "14. Imprima o número total de dados ausentes em cada uma das linhas?"
   ]
  },
  {
   "cell_type": "code",
   "execution_count": null,
   "metadata": {},
   "outputs": [],
   "source": []
  },
  {
   "cell_type": "markdown",
   "metadata": {},
   "source": [
    "15. Mostre as linhas que possuem dados ausentes na coluna `fabricante`."
   ]
  },
  {
   "cell_type": "code",
   "execution_count": null,
   "metadata": {},
   "outputs": [],
   "source": []
  },
  {
   "cell_type": "markdown",
   "metadata": {},
   "source": [
    "16. Substitua os valores ausentes da coluna preço por zero."
   ]
  },
  {
   "cell_type": "code",
   "execution_count": null,
   "metadata": {},
   "outputs": [],
   "source": []
  },
  {
   "cell_type": "markdown",
   "metadata": {},
   "source": [
    "17. Substitua os valores ausentes nas colunas `preco_min` e `preco_max` pelas respectivas médias dessas colunas."
   ]
  },
  {
   "cell_type": "code",
   "execution_count": null,
   "metadata": {},
   "outputs": [],
   "source": []
  },
  {
   "cell_type": "markdown",
   "metadata": {},
   "source": [
    "16. Remova do Data Frame todas as linhas que possuem pelo menos um dado ausente."
   ]
  },
  {
   "cell_type": "code",
   "execution_count": null,
   "metadata": {},
   "outputs": [],
   "source": []
  },
  {
   "cell_type": "markdown",
   "metadata": {},
   "source": [
    "17. Renomeie a coluna `trem_forca` para `tracao`."
   ]
  },
  {
   "cell_type": "code",
   "execution_count": null,
   "metadata": {},
   "outputs": [],
   "source": []
  },
  {
   "cell_type": "markdown",
   "metadata": {},
   "source": [
    "18. Selecione todos os dados da coluna tração."
   ]
  },
  {
   "cell_type": "code",
   "execution_count": null,
   "metadata": {},
   "outputs": [],
   "source": []
  },
  {
   "cell_type": "markdown",
   "metadata": {},
   "source": [
    "19. Selecione as colunas: `fabricante`,`modelo` e `tipo`."
   ]
  },
  {
   "cell_type": "code",
   "execution_count": null,
   "metadata": {},
   "outputs": [],
   "source": []
  },
  {
   "cell_type": "markdown",
   "metadata": {},
   "source": [
    "20. Selecione o fabricante com maior preço."
   ]
  },
  {
   "cell_type": "code",
   "execution_count": null,
   "metadata": {},
   "outputs": [],
   "source": []
  },
  {
   "cell_type": "markdown",
   "metadata": {},
   "source": [
    "22. Selecione as colunas `fabricante`, `modelo` e `preco`; dos carros que cabem menos passageiros."
   ]
  },
  {
   "cell_type": "code",
   "execution_count": null,
   "metadata": {},
   "outputs": [],
   "source": []
  },
  {
   "cell_type": "markdown",
   "metadata": {},
   "source": [
    "23. Mostre o total de carros que existem por `tipo`."
   ]
  },
  {
   "cell_type": "code",
   "execution_count": null,
   "metadata": {},
   "outputs": [],
   "source": []
  },
  {
   "cell_type": "markdown",
   "metadata": {},
   "source": [
    "24. Na coluna `tracao`, substitua *4WD* por *4X4*."
   ]
  },
  {
   "cell_type": "code",
   "execution_count": null,
   "metadata": {},
   "outputs": [],
   "source": []
  },
  {
   "cell_type": "markdown",
   "metadata": {},
   "source": [
    "25. Converta a coluna `cilintros` para `int`."
   ]
  },
  {
   "cell_type": "code",
   "execution_count": null,
   "metadata": {},
   "outputs": [],
   "source": []
  },
  {
   "cell_type": "markdown",
   "metadata": {},
   "source": [
    "26. Crie um ranking com os top 10 carros mais caros"
   ]
  },
  {
   "cell_type": "code",
   "execution_count": null,
   "metadata": {},
   "outputs": [],
   "source": []
  },
  {
   "cell_type": "markdown",
   "metadata": {},
   "source": [
    "27. Exiba uma contagem de valores por tipo de câmbio e tipo de veículo."
   ]
  },
  {
   "cell_type": "code",
   "execution_count": null,
   "metadata": {},
   "outputs": [],
   "source": []
  }
 ],
 "metadata": {
  "kernelspec": {
   "display_name": "Python 3",
   "language": "python",
   "name": "python3"
  },
  "language_info": {
   "codemirror_mode": {
    "name": "ipython",
    "version": 3
   },
   "file_extension": ".py",
   "mimetype": "text/x-python",
   "name": "python",
   "nbconvert_exporter": "python",
   "pygments_lexer": "ipython3",
   "version": "3.7.4"
  }
 },
 "nbformat": 4,
 "nbformat_minor": 4
}
