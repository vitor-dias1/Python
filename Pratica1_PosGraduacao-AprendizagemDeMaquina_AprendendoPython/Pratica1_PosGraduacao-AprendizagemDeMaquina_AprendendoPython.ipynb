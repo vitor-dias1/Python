{
 "cells": [
  {
   "cell_type": "markdown",
   "metadata": {
    "colab_type": "text",
    "deletable": true,
    "editable": true,
    "id": "T8c4goQ6hJCB"
   },
   "source": [
    "Olá pessoal, essa é nossa primeira prática. Durante nosso curso elas serão recorrentes e a mão na massa será nossa marca registrada.Essas atividades não são avaliativas e servem para que você possa praticar.\n",
    "\n",
    "---\n",
    "Pratica 1 - O Básico de Python\n",
    "\n",
    "Se você nunca teve contato com essa linguagem aqui teremos alguns exercícios simples para que você entenda os elementos básicos da sintaxe e funções simples.\n",
    "---\n",
    "\n",
    "Vamos começar?"
   ]
  },
  {
   "cell_type": "markdown",
   "metadata": {
    "colab_type": "text",
    "deletable": true,
    "editable": true,
    "id": "_fDj_4sGlAaU"
   },
   "source": [
    "Exercicio 1 - Entrada de dados e atribuições\n",
    "\n",
    "Faça um script que pergunte quanto você ganha por hora e o número de horas trabalhadas no mês. Calcule e mostre o total do seu salário no referido mês, sabendo-se que são descontados 11% para o Imposto de Renda, 8% para o INSS e 5% para o sindicato, faça um programa que nos dê:\n",
    "salário bruto.\n",
    "quanto pagou ao INSS.\n",
    "quanto pagou ao sindicato.\n",
    "o salário líquido.\n",
    "calcule os descontos e o salário líquido, conforme a tabela abaixo:\n",
    "+ Salário Bruto : RS\n",
    "- IR (11%) : RS\n",
    "- INSS (8%) : RS\n",
    "- Sindicato (5%) : RS\n",
    "= Salário Liquido : RS\n",
    "\n",
    "Obs.: Salário Bruto - Descontos = Salário Líquido.![alt text](https://)"
   ]
  },
  {
   "cell_type": "code",
   "execution_count": 0,
   "metadata": {
    "colab": {},
    "colab_type": "code",
    "collapsed": true,
    "deletable": true,
    "editable": true,
    "id": "2K_6p54sk_QW"
   },
   "outputs": [],
   "source": [
    "# Exercicio 1\n",
    "# a = int(input(\"Lendo um número: \"))\n",
    "# print(\"imprimindo o numero\", a)"
   ]
  },
  {
   "cell_type": "markdown",
   "metadata": {
    "colab_type": "text",
    "deletable": true,
    "editable": true,
    "id": "j_tQ6oHfk_x1"
   },
   "source": [
    "Exercicio 2 - Condicional\n",
    "\n",
    "Faça um programa que lê as duas notas parciais obtidas por um aluno numa disciplina ao longo de um semestre, e calcule a sua média. A atribuição de conceitos obedece à tabela abaixo:\n",
    "\n",
    "Média de Aproveitamento\n",
    "*   A - Entre 9.0 e 10.0        \n",
    "*   B - Entre 7.5 e 9.0\n",
    "*   C - Entre 6.0 e 7.5\n",
    "*   D - Entre 4.0 e 6.0\n",
    "*   E - Entre 4.0 e zero"
   ]
  },
  {
   "cell_type": "code",
   "execution_count": 0,
   "metadata": {
    "colab": {
     "base_uri": "https://localhost:8080/",
     "height": 54
    },
    "colab_type": "code",
    "collapsed": false,
    "deletable": true,
    "editable": true,
    "id": "CXIA-dDFoNB2",
    "outputId": "67586676-44e4-4ab9-8f9c-216931a7b2e2"
   },
   "outputs": [
    {
     "name": "stdout",
     "output_type": "stream",
     "text": [
      "Please enter an integer: 1\n",
      "Single\n"
     ]
    }
   ],
   "source": [
    "#x = int(input(\"Please enter an integer: \"))\n",
    "#y = int(input(\"Please other integer: \"))\n",
    "#if x < 0 and y > 0:\n",
    "#     x = 0\n",
    "#     print('Negative changed to zero')\n",
    "#elif x == 0 or y == 0:\n",
    "#     print('Zero')\n",
    "#elif x == 1:\n",
    "#     print('Single')\n",
    "#else:\n",
    "#     print('More')"
   ]
  },
  {
   "cell_type": "markdown",
   "metadata": {
    "colab_type": "text",
    "deletable": true,
    "editable": true,
    "id": "fzUkE_DSobou"
   },
   "source": [
    "Exercicio 3 - Loop For\n",
    "\n",
    "Desenvolva um gerador de tabuada, capaz de gerar a tabuada de qualquer número inteiro entre 1 a 10. O usuário deve informar de qual numero ele deseja ver a tabuada. A saída deve ser conforme o exemplo abaixo:\n",
    "Tabuada de 5:\n",
    "- \"5 X 1 = 5\"\n",
    "- \"5 X 2 = 10\"\n",
    "- \"...\"\n",
    "- \"5 X 10 = 50\"\n"
   ]
  },
  {
   "cell_type": "code",
   "execution_count": 0,
   "metadata": {
    "colab": {},
    "colab_type": "code",
    "collapsed": true,
    "deletable": true,
    "editable": true,
    "id": "V8SpxyZYpBwk"
   },
   "outputs": [],
   "source": [
    "# for i in range(5):\n",
    "#     print(i)\n",
    "\n",
    "# for i in range(0, 10, 3)\n",
    "#     print(i)"
   ]
  },
  {
   "cell_type": "markdown",
   "metadata": {
    "colab_type": "text",
    "deletable": true,
    "editable": true,
    "id": "_sd0fRQkpO9A"
   },
   "source": [
    "Exercicio 4 - Loop While\n",
    "\n",
    "Faça uma rotina que leia um nome de usuário e a sua senha e não aceite a senha igual ao nome do usuário, mostrando uma mensagem de erro e voltando a pedir as informações."
   ]
  },
  {
   "cell_type": "code",
   "execution_count": 0,
   "metadata": {
    "colab": {},
    "colab_type": "code",
    "collapsed": true,
    "deletable": true,
    "editable": true,
    "id": "44czarxvpOaS"
   },
   "outputs": [],
   "source": [
    "# a = \"ola\"\n",
    "# while a != \"oi\":\n",
    "#     print(a)\n",
    "\n",
    "# a = \"ola\"\n",
    "# while a <> \"oi\":\n",
    "#     print(a)"
   ]
  },
  {
   "cell_type": "markdown",
   "metadata": {
    "colab_type": "text",
    "deletable": true,
    "editable": true,
    "id": "12oLwcr8pxHM"
   },
   "source": [
    "Exercicio 5 - Listas\n",
    "\n",
    "Faça uma rotina que leia um vetor de 10 números reais e mostre-os na ordem inversa."
   ]
  },
  {
   "cell_type": "code",
   "execution_count": 0,
   "metadata": {
    "colab": {},
    "colab_type": "code",
    "collapsed": true,
    "deletable": true,
    "editable": true,
    "id": "YUrrh-dvpC-G"
   },
   "outputs": [],
   "source": [
    "# uma_lista = [11, \"oi\", 5.4, True]\n",
    "\n",
    "# i = 0\n",
    "# while i < len(uma_lista):\n",
    "    # print( \"elemento de indice %d = %d\"% (i, uma_lista[i]) )\n",
    "\n",
    "#A = [[1, 4, 5, 12], \n",
    "#    [-5, 8, 9, 0],\n",
    "#    [-6, 7, 11, 19]]\n",
    "\n",
    "#print(\"A =\", A) \n",
    "#print(\"A[1] =\", A[1])      # linha 2\n",
    "#print(\"A[1][2] =\", A[1][2])   # 3 elemento da linha 2"
   ]
  },
  {
   "cell_type": "markdown",
   "metadata": {
    "colab_type": "text",
    "deletable": true,
    "editable": true,
    "id": "BtNqxkt7Vmk6"
   },
   "source": [
    "Exercicio 6 - Listas\n",
    "\n",
    "Faça uma rotina que leia os dados de um cliente até que o usuário digite \"fim\" e os imprima na tela"
   ]
  },
  {
   "cell_type": "code",
   "execution_count": 0,
   "metadata": {
    "colab": {},
    "colab_type": "code",
    "collapsed": true,
    "deletable": true,
    "editable": true,
    "id": "N42pHd5zVmAM"
   },
   "outputs": [],
   "source": [
    "# cliente = [\"Fernanda\", \"Montenegro\", 1929, \"Central do Brasil\", 1998, \"Atriz\", \"Rio de Janeiro, RJ\"]\n",
    "# cliente.append(\"Brasil\")"
   ]
  },
  {
   "cell_type": "markdown",
   "metadata": {
    "colab_type": "text",
    "deletable": true,
    "editable": true,
    "id": "T2jBCh_1Wla-"
   },
   "source": [
    "Exercicio 7 - Funções\n",
    "\n",
    "Faça um programa com uma função chamada somaImposto. A função possui dois parâmetros de entrada: taxaImpostoVendas, que é a quantia de imposto sobre vendas expressa em porcentagem e custo, que é o custo de um item antes do imposto. A função retorna o valor de custo incluindo o imposto sobre vendas."
   ]
  },
  {
   "cell_type": "code",
   "execution_count": 0,
   "metadata": {
    "colab": {},
    "colab_type": "code",
    "collapsed": true,
    "deletable": true,
    "editable": true,
    "id": "emCDEA1zWk1l"
   },
   "outputs": [],
   "source": [
    "  #def notafinal(nota, diasatraso):\n",
    "  #  if (diasatraso == 0):\n",
    "  #    return nota\n",
    "  #  diasatraso-=1\n",
    "  #  return notafinal(nota-(nota*0.25), diasatraso)"
   ]
  },
  {
   "cell_type": "markdown",
   "metadata": {},
   "source": [
    "Exercicio 8 - Strings\n",
    "\n",
    "Tamanho de strings. Faça um programa que leia 2 strings e informe o conteúdo delas seguido do seu comprimento. Informe também se as duas strings possuem o mesmo comprimento e são iguais ou diferentes no conteúdo.\n",
    "\n",
    "Compara duas strings\n",
    "String 1: Brasil Hexa 2006\n",
    "String 2: Brasil! Hexa 2006!\n",
    "Tamanho de \"Brasil Hexa 2006\": 16 caracteres\n",
    "Tamanho de \"Brasil! Hexa 2006!\": 18 caracteres\n",
    "As duas strings são de tamanhos diferentes.\n",
    "As duas strings possuem conteúdo diferente."
   ]
  },
  {
   "cell_type": "code",
   "execution_count": null,
   "metadata": {
    "collapsed": true
   },
   "outputs": [],
   "source": [
    "#palavra2 = input('String 2: ')\n",
    "\n",
    "#print('Tamanho de \"%s\": %d ' % (palavra1, len(palavra1)))"
   ]
  },
  {
   "cell_type": "markdown",
   "metadata": {},
   "source": [
    "Exercicio 8 - Strings\n",
    "\n",
    "Faça um programa que permita ao usuário digitar o seu nome e em seguida mostre o nome do usuário de trás para frente\n",
    "utilizando somente letras maiúsculas. "
   ]
  },
  {
   "cell_type": "code",
   "execution_count": null,
   "metadata": {
    "collapsed": true
   },
   "outputs": [],
   "source": [
    "#str = 'nome'\n",
    "\n",
    "#nome = str.upper()"
   ]
  }
 ],
 "metadata": {
  "colab": {
   "collapsed_sections": [],
   "name": "EX1-TecnologiasEmergentes-AprendendoPython.ipynb",
   "provenance": []
  },
  "kernelspec": {
   "display_name": "Python 3",
   "language": "python",
   "name": "python3"
  },
  "language_info": {
   "codemirror_mode": {
    "name": "ipython",
    "version": 3
   },
   "file_extension": ".py",
   "mimetype": "text/x-python",
   "name": "python",
   "nbconvert_exporter": "python",
   "pygments_lexer": "ipython3",
   "version": "3.5.2"
  }
 },
 "nbformat": 4,
 "nbformat_minor": 0
}
